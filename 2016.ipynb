{
 "cells": [
  {
   "cell_type": "code",
   "execution_count": 593,
   "metadata": {},
   "outputs": [],
   "source": [
    "import pandas as pd\r\n",
    "import numpy as np\r\n",
    "import warnings\r\n",
    "import matplotlib.pyplot as plt\r\n",
    "import pyodbc\r\n",
    "import pandas_access as pa\r\n",
    "from sklearn.model_selection import train_test_split\r\n",
    "from sklearn.linear_model import LogisticRegression\r\n",
    "from sklearn.svm import SVC, LinearSVC\r\n",
    "from sklearn.ensemble import RandomForestClassifier\r\n",
    "from sklearn.neighbors import KNeighborsClassifier\r\n",
    "from sklearn.naive_bayes import GaussianNB\r\n",
    "from sklearn.linear_model import Perceptron\r\n",
    "from sklearn.linear_model import SGDClassifier\r\n",
    "from sklearn.tree import DecisionTreeClassifier\r\n",
    "from sklearn.metrics import confusion_matrix,classification_report\r\n",
    "from sklearn.model_selection import cross_val_predict\r\n",
    "from sklearn.ensemble import IsolationForest\r\n",
    "from sklearn.svm import OneClassSVM\r\n",
    "from sklearn.covariance import EllipticEnvelope\r\n",
    "from xgboost import XGBClassifier\r\n",
    "from sklearn.preprocessing import StandardScaler  \r\n",
    "from sklearn.neural_network import MLPClassifier\r\n",
    "from tensorflow import keras\r\n",
    "import tensorflow as tf"
   ]
  },
  {
   "cell_type": "code",
   "execution_count": 20,
   "metadata": {},
   "outputs": [],
   "source": [
    "dataset_close=pd.read_csv('data\\hospital_closure\\hospital_closure.csv')"
   ]
  },
  {
   "cell_type": "code",
   "execution_count": 3,
   "metadata": {},
   "outputs": [
    {
     "data": {
      "text/plain": [
       "2002     1\n",
       "2003     1\n",
       "2004     1\n",
       "2005     1\n",
       "2006     3\n",
       "2007    13\n",
       "2008    16\n",
       "2009    17\n",
       "2010    12\n",
       "2011    13\n",
       "2012    25\n",
       "2013    23\n",
       "2014    24\n",
       "2015    18\n",
       "2016    10\n",
       "2017     7\n",
       "Name: year_close_combined, dtype: int64"
      ]
     },
     "execution_count": 3,
     "metadata": {},
     "output_type": "execute_result"
    }
   ],
   "source": [
    "dataset_close['year_close_combined'].value_counts(dropna=False).sort_index()"
   ]
  },
  {
   "cell_type": "code",
   "execution_count": 326,
   "metadata": {},
   "outputs": [
    {
     "data": {
      "text/plain": [
       "[('data\\\\hospital_compare\\\\Copy of hc_dec2016.mdb', None, 'MSysAccessObjects', 'SYSTEM TABLE', None),\n",
       " ('data\\\\hospital_compare\\\\Copy of hc_dec2016.mdb', None, 'MSysAccessXML', 'SYSTEM TABLE', None),\n",
       " ('data\\\\hospital_compare\\\\Copy of hc_dec2016.mdb', None, 'MSysACEs', 'SYSTEM TABLE', None),\n",
       " ('data\\\\hospital_compare\\\\Copy of hc_dec2016.mdb', None, 'MSysIMEXColumns', 'SYSTEM TABLE', None),\n",
       " ('data\\\\hospital_compare\\\\Copy of hc_dec2016.mdb', None, 'MSysIMEXSpecs', 'SYSTEM TABLE', None),\n",
       " ('data\\\\hospital_compare\\\\Copy of hc_dec2016.mdb', None, 'MSysNameMap', 'SYSTEM TABLE', None),\n",
       " ('data\\\\hospital_compare\\\\Copy of hc_dec2016.mdb', None, 'MSysNavPaneGroupCategories', 'SYSTEM TABLE', None),\n",
       " ('data\\\\hospital_compare\\\\Copy of hc_dec2016.mdb', None, 'MSysNavPaneGroups', 'SYSTEM TABLE', None),\n",
       " ('data\\\\hospital_compare\\\\Copy of hc_dec2016.mdb', None, 'MSysNavPaneGroupToObjects', 'SYSTEM TABLE', None),\n",
       " ('data\\\\hospital_compare\\\\Copy of hc_dec2016.mdb', None, 'MSysNavPaneObjectIDs', 'SYSTEM TABLE', None),\n",
       " ('data\\\\hospital_compare\\\\Copy of hc_dec2016.mdb', None, 'MSysObjects', 'SYSTEM TABLE', None),\n",
       " ('data\\\\hospital_compare\\\\Copy of hc_dec2016.mdb', None, 'MSysQueries', 'SYSTEM TABLE', None),\n",
       " ('data\\\\hospital_compare\\\\Copy of hc_dec2016.mdb', None, 'MSysRelationships', 'SYSTEM TABLE', None),\n",
       " ('data\\\\hospital_compare\\\\Copy of hc_dec2016.mdb', None, 'Ambulatory Surgical Measures-Facility', 'TABLE', None),\n",
       " ('data\\\\hospital_compare\\\\Copy of hc_dec2016.mdb', None, 'Ambulatory Surgical Measures-National', 'TABLE', None),\n",
       " ('data\\\\hospital_compare\\\\Copy of hc_dec2016.mdb', None, 'Ambulatory Surgical Measures-State', 'TABLE', None),\n",
       " ('data\\\\hospital_compare\\\\Copy of hc_dec2016.mdb', None, 'FY2014_Distribution_of_Net_Change_in_Base_Op_DRG_Payment_Amt', 'TABLE', None),\n",
       " ('data\\\\hospital_compare\\\\Copy of hc_dec2016.mdb', None, 'FY2014_Net_Change_in_Base_Op_DRG_Payment_Amt', 'TABLE', None),\n",
       " ('data\\\\hospital_compare\\\\Copy of hc_dec2016.mdb', None, 'FY2014_Percent_Change_in_Medicare_Payments', 'TABLE', None),\n",
       " ('data\\\\hospital_compare\\\\Copy of hc_dec2016.mdb', None, 'FY2014_Value_Based_Incentive_Payment_Amount', 'TABLE', None),\n",
       " ('data\\\\hospital_compare\\\\Copy of hc_dec2016.mdb', None, 'HOSPITAL_QUARTERLY_HAC_DOMAIN_HOSPITAL', 'TABLE', None),\n",
       " ('data\\\\hospital_compare\\\\Copy of hc_dec2016.mdb', None, 'HOSPITAL_QUARTERLY_IPFQR_MEASURES_HOSPITAL', 'TABLE', None),\n",
       " ('data\\\\hospital_compare\\\\Copy of hc_dec2016.mdb', None, 'HOSPITAL_QUARTERLY_IPFQR_MEASURES_NATIONAL', 'TABLE', None),\n",
       " ('data\\\\hospital_compare\\\\Copy of hc_dec2016.mdb', None, 'HOSPITAL_QUARTERLY_IPFQR_MEASURES_STATE', 'TABLE', None),\n",
       " ('data\\\\hospital_compare\\\\Copy of hc_dec2016.mdb', None, 'HOSPITAL_QUARTERLY_MSPB_6_DECIMALS', 'TABLE', None),\n",
       " ('data\\\\hospital_compare\\\\Copy of hc_dec2016.mdb', None, 'HQI_FTNT', 'TABLE', None),\n",
       " ('data\\\\hospital_compare\\\\Copy of hc_dec2016.mdb', None, 'HQI_HOSP', 'TABLE', None),\n",
       " ('data\\\\hospital_compare\\\\Copy of hc_dec2016.mdb', None, 'HQI_HOSP_Comp', 'TABLE', None),\n",
       " ('data\\\\hospital_compare\\\\Copy of hc_dec2016.mdb', None, 'HQI_HOSP_HAI', 'TABLE', None),\n",
       " ('data\\\\hospital_compare\\\\Copy of hc_dec2016.mdb', None, 'HQI_HOSP_HCAHPS', 'TABLE', None),\n",
       " ('data\\\\hospital_compare\\\\Copy of hc_dec2016.mdb', None, 'HQI_HOSP_IMG', 'TABLE', None),\n",
       " ('data\\\\hospital_compare\\\\Copy of hc_dec2016.mdb', None, 'HQI_HOSP_MSPB', 'TABLE', None),\n",
       " ('data\\\\hospital_compare\\\\Copy of hc_dec2016.mdb', None, 'HQI_HOSP_PaymentAndValueOfCare', 'TABLE', None),\n",
       " ('data\\\\hospital_compare\\\\Copy of hc_dec2016.mdb', None, 'HQI_HOSP_ReadmDeath', 'TABLE', None),\n",
       " ('data\\\\hospital_compare\\\\Copy of hc_dec2016.mdb', None, 'HQI_HOSP_STRUCTURAL', 'TABLE', None),\n",
       " ('data\\\\hospital_compare\\\\Copy of hc_dec2016.mdb', None, 'HQI_HOSP_TimelyEffectiveCare', 'TABLE', None),\n",
       " ('data\\\\hospital_compare\\\\Copy of hc_dec2016.mdb', None, 'HQI_NATIONAL_Comp', 'TABLE', None),\n",
       " ('data\\\\hospital_compare\\\\Copy of hc_dec2016.mdb', None, 'HQI_NATIONAL_HAI', 'TABLE', None),\n",
       " ('data\\\\hospital_compare\\\\Copy of hc_dec2016.mdb', None, 'HQI_NATIONAL_HCAHPS', 'TABLE', None),\n",
       " ('data\\\\hospital_compare\\\\Copy of hc_dec2016.mdb', None, 'HQI_NATIONAL_IMG_AVG', 'TABLE', None),\n",
       " ('data\\\\hospital_compare\\\\Copy of hc_dec2016.mdb', None, 'HQI_NATIONAL_MSPB', 'TABLE', None),\n",
       " ('data\\\\hospital_compare\\\\Copy of hc_dec2016.mdb', None, 'HQI_NATIONAL_Payment', 'TABLE', None),\n",
       " ('data\\\\hospital_compare\\\\Copy of hc_dec2016.mdb', None, 'HQI_NATIONAL_ReadmDeath', 'TABLE', None),\n",
       " ('data\\\\hospital_compare\\\\Copy of hc_dec2016.mdb', None, 'HQI_NATIONAL_TimelyEffectiveCare', 'TABLE', None),\n",
       " ('data\\\\hospital_compare\\\\Copy of hc_dec2016.mdb', None, 'HQI_NATIONAL_Value of Care', 'TABLE', None),\n",
       " ('data\\\\hospital_compare\\\\Copy of hc_dec2016.mdb', None, 'HQI_OP_Procedure_Volume', 'TABLE', None),\n",
       " ('data\\\\hospital_compare\\\\Copy of hc_dec2016.mdb', None, 'HQI_STATE_Comp', 'TABLE', None),\n",
       " ('data\\\\hospital_compare\\\\Copy of hc_dec2016.mdb', None, 'HQI_STATE_HAI', 'TABLE', None),\n",
       " ('data\\\\hospital_compare\\\\Copy of hc_dec2016.mdb', None, 'HQI_STATE_HCAHPS', 'TABLE', None),\n",
       " ('data\\\\hospital_compare\\\\Copy of hc_dec2016.mdb', None, 'HQI_STATE_IMG_AVG', 'TABLE', None),\n",
       " ('data\\\\hospital_compare\\\\Copy of hc_dec2016.mdb', None, 'HQI_STATE_MSPB', 'TABLE', None),\n",
       " ('data\\\\hospital_compare\\\\Copy of hc_dec2016.mdb', None, 'HQI_STATE_Payment', 'TABLE', None),\n",
       " ('data\\\\hospital_compare\\\\Copy of hc_dec2016.mdb', None, 'HQI_STATE_ReadmDeath', 'TABLE', None),\n",
       " ('data\\\\hospital_compare\\\\Copy of hc_dec2016.mdb', None, 'HQI_STATE_TimelyEffectiveCare', 'TABLE', None),\n",
       " ('data\\\\hospital_compare\\\\Copy of hc_dec2016.mdb', None, 'Hvbp_ami_08_26_2016', 'TABLE', None),\n",
       " ('data\\\\hospital_compare\\\\Copy of hc_dec2016.mdb', None, 'Hvbp_Efficiency_08_26_2016', 'TABLE', None),\n",
       " ('data\\\\hospital_compare\\\\Copy of hc_dec2016.mdb', None, 'Hvbp_hai_08_26_2016', 'TABLE', None),\n",
       " ('data\\\\hospital_compare\\\\Copy of hc_dec2016.mdb', None, 'Hvbp_hcahps_08_26_2016', 'TABLE', None),\n",
       " ('data\\\\hospital_compare\\\\Copy of hc_dec2016.mdb', None, 'Hvbp_imm2_08_26_2016', 'TABLE', None),\n",
       " ('data\\\\hospital_compare\\\\Copy of hc_dec2016.mdb', None, 'Hvbp_outcome_08_26_2016', 'TABLE', None),\n",
       " ('data\\\\hospital_compare\\\\Copy of hc_dec2016.mdb', None, 'Hvbp_pn_08_26_2016', 'TABLE', None),\n",
       " ('data\\\\hospital_compare\\\\Copy of hc_dec2016.mdb', None, 'Hvbp_scip_08_26_2016', 'TABLE', None),\n",
       " ('data\\\\hospital_compare\\\\Copy of hc_dec2016.mdb', None, 'Hvbp_tps_08_26_2016', 'TABLE', None),\n",
       " ('data\\\\hospital_compare\\\\Copy of hc_dec2016.mdb', None, 'Measure_Dates', 'TABLE', None),\n",
       " ('data\\\\hospital_compare\\\\Copy of hc_dec2016.mdb', None, 'Medicare Hospital Spending by Claim', 'TABLE', None),\n",
       " ('data\\\\hospital_compare\\\\Copy of hc_dec2016.mdb', None, 'PCH_CANCERSPECIFICMEASURES_HOSPITAL', 'TABLE', None),\n",
       " ('data\\\\hospital_compare\\\\Copy of hc_dec2016.mdb', None, 'vwHQI_READM_REDUCTION', 'TABLE', None),\n",
       " ('data\\\\hospital_compare\\\\Copy of hc_dec2016.mdb', None, 'HQI_HOSP_MSPB Query', 'VIEW', None)]"
      ]
     },
     "execution_count": 326,
     "metadata": {},
     "output_type": "execute_result"
    }
   ],
   "source": [
    "MDB = 'data\\hospital_compare\\Copy of hc_dec2016.mdb'\r\n",
    "MDB2='data\\hospital_compare\\Copy of HospitalMay2015.mdb'\r\n",
    "DRV = '{Microsoft Access Driver (*.mdb, *.accdb)}'\r\n",
    "PWD = 'pw'\r\n",
    "\r\n",
    "con = pyodbc.connect('DRIVER={};DBQ={};PWD={}'.format(DRV,MDB,PWD))\r\n",
    "cur = con.cursor()\r\n",
    "\r\n",
    "list(cur.tables())"
   ]
  },
  {
   "cell_type": "code",
   "execution_count": 489,
   "metadata": {},
   "outputs": [],
   "source": [
    "table_name = '[Medicare Hospital Spending by Claim]'\r\n",
    "table_name2='HQI_HOSP_PaymentAndValueOfCare'\r\n",
    "# define query\r\n",
    "query = \"SELECT * FROM {}\".format(table_name)\r\n",
    "query2 = \"SELECT * FROM {}\".format(table_name2)\r\n",
    "\r\n",
    "rows = cur.execute(query).fetchall()"
   ]
  },
  {
   "cell_type": "code",
   "execution_count": 544,
   "metadata": {},
   "outputs": [],
   "source": [
    "row2 = cur.execute(query2).fetchall()\r\n",
    "row2=np.array(row2)\r\n",
    "dataset0=pd.DataFrame(data=row2[:,[0,4,5,6,7,8,9,12,13]],columns=['1','2','3','4','5','6','7','8','9'])\r\n"
   ]
  },
  {
   "cell_type": "code",
   "execution_count": 558,
   "metadata": {},
   "outputs": [
    {
     "data": {
      "text/html": [
       "<div>\n",
       "<style scoped>\n",
       "    .dataframe tbody tr th:only-of-type {\n",
       "        vertical-align: middle;\n",
       "    }\n",
       "\n",
       "    .dataframe tbody tr th {\n",
       "        vertical-align: top;\n",
       "    }\n",
       "\n",
       "    .dataframe thead th {\n",
       "        text-align: right;\n",
       "    }\n",
       "</style>\n",
       "<table border=\"1\" class=\"dataframe\">\n",
       "  <thead>\n",
       "    <tr style=\"text-align: right;\">\n",
       "      <th></th>\n",
       "      <th>1</th>\n",
       "      <th>2</th>\n",
       "      <th>3</th>\n",
       "      <th>4</th>\n",
       "      <th>5</th>\n",
       "      <th>6</th>\n",
       "      <th>7</th>\n",
       "      <th>8</th>\n",
       "      <th>9</th>\n",
       "    </tr>\n",
       "  </thead>\n",
       "  <tbody>\n",
       "    <tr>\n",
       "      <th>0</th>\n",
       "      <td>010001</td>\n",
       "      <td>0</td>\n",
       "      <td>707</td>\n",
       "      <td>21804</td>\n",
       "      <td>20744</td>\n",
       "      <td>22932</td>\n",
       "      <td>None</td>\n",
       "      <td>Average mortality and average payment</td>\n",
       "      <td>None</td>\n",
       "    </tr>\n",
       "    <tr>\n",
       "      <th>1</th>\n",
       "      <td>010001</td>\n",
       "      <td>0</td>\n",
       "      <td>754</td>\n",
       "      <td>15659</td>\n",
       "      <td>14884</td>\n",
       "      <td>16446</td>\n",
       "      <td>None</td>\n",
       "      <td>Average mortality and average payment</td>\n",
       "      <td>None</td>\n",
       "    </tr>\n",
       "    <tr>\n",
       "      <th>2</th>\n",
       "      <td>010001</td>\n",
       "      <td>0</td>\n",
       "      <td>404</td>\n",
       "      <td>15089</td>\n",
       "      <td>14133</td>\n",
       "      <td>16018</td>\n",
       "      <td>None</td>\n",
       "      <td>Average mortality and average payment</td>\n",
       "      <td>None</td>\n",
       "    </tr>\n",
       "    <tr>\n",
       "      <th>3</th>\n",
       "      <td>010005</td>\n",
       "      <td>0</td>\n",
       "      <td>53</td>\n",
       "      <td>23171</td>\n",
       "      <td>20404</td>\n",
       "      <td>26226</td>\n",
       "      <td>None</td>\n",
       "      <td>Average mortality and average payment</td>\n",
       "      <td>None</td>\n",
       "    </tr>\n",
       "    <tr>\n",
       "      <th>4</th>\n",
       "      <td>010005</td>\n",
       "      <td>0</td>\n",
       "      <td>347</td>\n",
       "      <td>16376</td>\n",
       "      <td>15237</td>\n",
       "      <td>17547</td>\n",
       "      <td>None</td>\n",
       "      <td>Worse mortality and average payment</td>\n",
       "      <td>None</td>\n",
       "    </tr>\n",
       "    <tr>\n",
       "      <th>...</th>\n",
       "      <td>...</td>\n",
       "      <td>...</td>\n",
       "      <td>...</td>\n",
       "      <td>...</td>\n",
       "      <td>...</td>\n",
       "      <td>...</td>\n",
       "      <td>...</td>\n",
       "      <td>...</td>\n",
       "      <td>...</td>\n",
       "    </tr>\n",
       "    <tr>\n",
       "      <th>14449</th>\n",
       "      <td>670111</td>\n",
       "      <td>0</td>\n",
       "      <td>NaN</td>\n",
       "      <td>NaN</td>\n",
       "      <td>NaN</td>\n",
       "      <td>NaN</td>\n",
       "      <td>19</td>\n",
       "      <td>Not Available</td>\n",
       "      <td>19</td>\n",
       "    </tr>\n",
       "    <tr>\n",
       "      <th>14450</th>\n",
       "      <td>670111</td>\n",
       "      <td>0</td>\n",
       "      <td>NaN</td>\n",
       "      <td>NaN</td>\n",
       "      <td>NaN</td>\n",
       "      <td>NaN</td>\n",
       "      <td>19</td>\n",
       "      <td>Not Available</td>\n",
       "      <td>19</td>\n",
       "    </tr>\n",
       "    <tr>\n",
       "      <th>14451</th>\n",
       "      <td>670112</td>\n",
       "      <td>0</td>\n",
       "      <td>NaN</td>\n",
       "      <td>NaN</td>\n",
       "      <td>NaN</td>\n",
       "      <td>NaN</td>\n",
       "      <td>5</td>\n",
       "      <td>Not Available</td>\n",
       "      <td>5</td>\n",
       "    </tr>\n",
       "    <tr>\n",
       "      <th>14452</th>\n",
       "      <td>670112</td>\n",
       "      <td>0</td>\n",
       "      <td>NaN</td>\n",
       "      <td>NaN</td>\n",
       "      <td>NaN</td>\n",
       "      <td>NaN</td>\n",
       "      <td>5</td>\n",
       "      <td>Not Available</td>\n",
       "      <td>5</td>\n",
       "    </tr>\n",
       "    <tr>\n",
       "      <th>14453</th>\n",
       "      <td>670112</td>\n",
       "      <td>0</td>\n",
       "      <td>NaN</td>\n",
       "      <td>NaN</td>\n",
       "      <td>NaN</td>\n",
       "      <td>NaN</td>\n",
       "      <td>5</td>\n",
       "      <td>Not Available</td>\n",
       "      <td>5</td>\n",
       "    </tr>\n",
       "  </tbody>\n",
       "</table>\n",
       "<p>14454 rows × 9 columns</p>\n",
       "</div>"
      ],
      "text/plain": [
       "            1  2    3      4      5      6     7  \\\n",
       "0      010001  0  707  21804  20744  22932  None   \n",
       "1      010001  0  754  15659  14884  16446  None   \n",
       "2      010001  0  404  15089  14133  16018  None   \n",
       "3      010005  0   53  23171  20404  26226  None   \n",
       "4      010005  0  347  16376  15237  17547  None   \n",
       "...       ... ..  ...    ...    ...    ...   ...   \n",
       "14449  670111  0  NaN    NaN    NaN    NaN    19   \n",
       "14450  670111  0  NaN    NaN    NaN    NaN    19   \n",
       "14451  670112  0  NaN    NaN    NaN    NaN     5   \n",
       "14452  670112  0  NaN    NaN    NaN    NaN     5   \n",
       "14453  670112  0  NaN    NaN    NaN    NaN     5   \n",
       "\n",
       "                                           8     9  \n",
       "0      Average mortality and average payment  None  \n",
       "1      Average mortality and average payment  None  \n",
       "2      Average mortality and average payment  None  \n",
       "3      Average mortality and average payment  None  \n",
       "4        Worse mortality and average payment  None  \n",
       "...                                      ...   ...  \n",
       "14449                          Not Available    19  \n",
       "14450                          Not Available    19  \n",
       "14451                          Not Available     5  \n",
       "14452                          Not Available     5  \n",
       "14453                          Not Available     5  \n",
       "\n",
       "[14454 rows x 9 columns]"
      ]
     },
     "execution_count": 558,
     "metadata": {},
     "output_type": "execute_result"
    }
   ],
   "source": [
    "dataset0"
   ]
  },
  {
   "cell_type": "code",
   "execution_count": 546,
   "metadata": {},
   "outputs": [],
   "source": [
    "dataset0['2']=dataset0['2'].replace({'No Different than the National Average Payment':0,'Number of Cases Too Small':0,'Not Available':0,'Greater than the National Average Payment':1,'Less than the National Average Payment':2})"
   ]
  },
  {
   "cell_type": "code",
   "execution_count": 547,
   "metadata": {},
   "outputs": [],
   "source": [
    "dataset0['4']=dataset0['4'].str.strip(\"$\")\r\n",
    "dataset0['4']=dataset0['4'].str.replace(',', '')\r\n",
    "dataset0['5']=dataset0['5'].str.strip(\"$\")\r\n",
    "dataset0['5']=dataset0['5'].str.replace(',', '')\r\n",
    "dataset0['6']=dataset0['6'].str.strip(\"$\")\r\n",
    "dataset0['6']=dataset0['6'].str.replace(',', '')"
   ]
  },
  {
   "cell_type": "code",
   "execution_count": 557,
   "metadata": {},
   "outputs": [],
   "source": [
    "dataset0['3']=dataset0['3'].replace({'Not Available':np.nan})\r\n",
    "dataset0['4']=dataset0['4'].replace({'Not Available':np.nan})\r\n",
    "dataset0['5']=dataset0['5'].replace({'Not Available':np.nan})\r\n",
    "dataset0['6']=dataset0['6'].replace({'Not Available':np.nan})"
   ]
  },
  {
   "cell_type": "code",
   "execution_count": 553,
   "metadata": {},
   "outputs": [
    {
     "data": {
      "text/plain": [
       "Not Available    4574\n",
       "14373               8\n",
       "13464               8\n",
       "13714               8\n",
       "13422               7\n",
       "                 ... \n",
       "22615               1\n",
       "10591               1\n",
       "11503               1\n",
       "15091               1\n",
       "16884               1\n",
       "Name: 5, Length: 6163, dtype: int64"
      ]
     },
     "execution_count": 553,
     "metadata": {},
     "output_type": "execute_result"
    }
   ],
   "source": [
    "dataset0['6'].value_counts(dropna=False)"
   ]
  },
  {
   "cell_type": "code",
   "execution_count": 340,
   "metadata": {},
   "outputs": [],
   "source": [
    "arr=np.array(rows)\r\n"
   ]
  },
  {
   "cell_type": "code",
   "execution_count": 381,
   "metadata": {},
   "outputs": [],
   "source": [
    "dataset4=pd.DataFrame(arr[:,[1,5,6,7,8,9,10]],columns=['id','1','2','3','4','5','6'])"
   ]
  },
  {
   "cell_type": "code",
   "execution_count": 382,
   "metadata": {},
   "outputs": [
    {
     "data": {
      "text/html": [
       "<div>\n",
       "<style scoped>\n",
       "    .dataframe tbody tr th:only-of-type {\n",
       "        vertical-align: middle;\n",
       "    }\n",
       "\n",
       "    .dataframe tbody tr th {\n",
       "        vertical-align: top;\n",
       "    }\n",
       "\n",
       "    .dataframe thead th {\n",
       "        text-align: right;\n",
       "    }\n",
       "</style>\n",
       "<table border=\"1\" class=\"dataframe\">\n",
       "  <thead>\n",
       "    <tr style=\"text-align: right;\">\n",
       "      <th></th>\n",
       "      <th>id</th>\n",
       "      <th>1</th>\n",
       "      <th>2</th>\n",
       "      <th>3</th>\n",
       "      <th>4</th>\n",
       "      <th>5</th>\n",
       "      <th>6</th>\n",
       "    </tr>\n",
       "  </thead>\n",
       "  <tbody>\n",
       "    <tr>\n",
       "      <th>0</th>\n",
       "      <td>010019</td>\n",
       "      <td>18</td>\n",
       "      <td>31</td>\n",
       "      <td>24</td>\n",
       "      <td>0.10%</td>\n",
       "      <td>0.16%</td>\n",
       "      <td>0.12%</td>\n",
       "    </tr>\n",
       "    <tr>\n",
       "      <th>1</th>\n",
       "      <td>010019</td>\n",
       "      <td>1062</td>\n",
       "      <td>1480</td>\n",
       "      <td>1540</td>\n",
       "      <td>6.01%</td>\n",
       "      <td>7.71%</td>\n",
       "      <td>7.52%</td>\n",
       "    </tr>\n",
       "    <tr>\n",
       "      <th>2</th>\n",
       "      <td>010019</td>\n",
       "      <td>917</td>\n",
       "      <td>948</td>\n",
       "      <td>816</td>\n",
       "      <td>5.19%</td>\n",
       "      <td>4.94%</td>\n",
       "      <td>3.98%</td>\n",
       "    </tr>\n",
       "    <tr>\n",
       "      <th>3</th>\n",
       "      <td>010019</td>\n",
       "      <td>172</td>\n",
       "      <td>154</td>\n",
       "      <td>122</td>\n",
       "      <td>0.97%</td>\n",
       "      <td>0.80%</td>\n",
       "      <td>0.60%</td>\n",
       "    </tr>\n",
       "    <tr>\n",
       "      <th>4</th>\n",
       "      <td>010019</td>\n",
       "      <td>2518</td>\n",
       "      <td>2634</td>\n",
       "      <td>2702</td>\n",
       "      <td>14.25%</td>\n",
       "      <td>13.72%</td>\n",
       "      <td>13.18%</td>\n",
       "    </tr>\n",
       "    <tr>\n",
       "      <th>...</th>\n",
       "      <td>...</td>\n",
       "      <td>...</td>\n",
       "      <td>...</td>\n",
       "      <td>...</td>\n",
       "      <td>...</td>\n",
       "      <td>...</td>\n",
       "      <td>...</td>\n",
       "    </tr>\n",
       "    <tr>\n",
       "      <th>69779</th>\n",
       "      <td>510046</td>\n",
       "      <td>1</td>\n",
       "      <td>2</td>\n",
       "      <td>2</td>\n",
       "      <td>0.00%</td>\n",
       "      <td>0.01%</td>\n",
       "      <td>0.01%</td>\n",
       "    </tr>\n",
       "    <tr>\n",
       "      <th>69780</th>\n",
       "      <td>510046</td>\n",
       "      <td>6</td>\n",
       "      <td>11</td>\n",
       "      <td>9</td>\n",
       "      <td>0.04%</td>\n",
       "      <td>0.06%</td>\n",
       "      <td>0.04%</td>\n",
       "    </tr>\n",
       "    <tr>\n",
       "      <th>69781</th>\n",
       "      <td>510046</td>\n",
       "      <td>485</td>\n",
       "      <td>644</td>\n",
       "      <td>552</td>\n",
       "      <td>2.81%</td>\n",
       "      <td>3.39%</td>\n",
       "      <td>2.69%</td>\n",
       "    </tr>\n",
       "    <tr>\n",
       "      <th>69782</th>\n",
       "      <td>510046</td>\n",
       "      <td>0</td>\n",
       "      <td>0</td>\n",
       "      <td>0</td>\n",
       "      <td>0.00%</td>\n",
       "      <td>0.00%</td>\n",
       "      <td>0.00%</td>\n",
       "    </tr>\n",
       "    <tr>\n",
       "      <th>69783</th>\n",
       "      <td>510046</td>\n",
       "      <td>0</td>\n",
       "      <td>0</td>\n",
       "      <td>0</td>\n",
       "      <td>0.00%</td>\n",
       "      <td>0.00%</td>\n",
       "      <td>0.00%</td>\n",
       "    </tr>\n",
       "  </tbody>\n",
       "</table>\n",
       "<p>69784 rows × 7 columns</p>\n",
       "</div>"
      ],
      "text/plain": [
       "           id     1     2     3       4       5       6\n",
       "0      010019    18    31    24   0.10%   0.16%   0.12%\n",
       "1      010019  1062  1480  1540   6.01%   7.71%   7.52%\n",
       "2      010019   917   948   816   5.19%   4.94%   3.98%\n",
       "3      010019   172   154   122   0.97%   0.80%   0.60%\n",
       "4      010019  2518  2634  2702  14.25%  13.72%  13.18%\n",
       "...       ...   ...   ...   ...     ...     ...     ...\n",
       "69779  510046     1     2     2   0.00%   0.01%   0.01%\n",
       "69780  510046     6    11     9   0.04%   0.06%   0.04%\n",
       "69781  510046   485   644   552   2.81%   3.39%   2.69%\n",
       "69782  510046     0     0     0   0.00%   0.00%   0.00%\n",
       "69783  510046     0     0     0   0.00%   0.00%   0.00%\n",
       "\n",
       "[69784 rows x 7 columns]"
      ]
     },
     "execution_count": 382,
     "metadata": {},
     "output_type": "execute_result"
    }
   ],
   "source": [
    "dataset4"
   ]
  },
  {
   "cell_type": "code",
   "execution_count": 383,
   "metadata": {},
   "outputs": [],
   "source": [
    "dataset4['4']=dataset4['4'].str.strip(\"%\").astype(float)/100\r\n",
    "dataset4['5']=dataset4['5'].str.strip(\"%\").astype(float)/100\r\n",
    "dataset4['6']=dataset4['6'].str.strip(\"%\").astype(float)/100\r\n"
   ]
  },
  {
   "cell_type": "code",
   "execution_count": 396,
   "metadata": {},
   "outputs": [],
   "source": [
    "for col in dataset4:\r\n",
    "    dataset4[col]=pd.to_numeric(dataset4[col])\r\n",
    "sub_ds1=dataset_close[dataset_close['year_close_combined']==2015]\r\n",
    "sub_ds2=dataset_close[dataset_close['year_close_combined']==2016]\r\n",
    "sub_ds3=dataset_close[dataset_close['year_close_combined']==2017]\r\n",
    "sub_ds=pd.concat([sub_ds1,sub_ds2,sub_ds3])\r\n",
    "dataset4['Closure']=dataset4.id.apply(lambda x:1 if x in np.array(sub_ds['id']) else 0)"
   ]
  },
  {
   "cell_type": "code",
   "execution_count": 400,
   "metadata": {},
   "outputs": [
    {
     "data": {
      "text/html": [
       "<div>\n",
       "<style scoped>\n",
       "    .dataframe tbody tr th:only-of-type {\n",
       "        vertical-align: middle;\n",
       "    }\n",
       "\n",
       "    .dataframe tbody tr th {\n",
       "        vertical-align: top;\n",
       "    }\n",
       "\n",
       "    .dataframe thead th {\n",
       "        text-align: right;\n",
       "    }\n",
       "</style>\n",
       "<table border=\"1\" class=\"dataframe\">\n",
       "  <thead>\n",
       "    <tr style=\"text-align: right;\">\n",
       "      <th></th>\n",
       "      <th>id</th>\n",
       "      <th>1</th>\n",
       "      <th>2</th>\n",
       "      <th>3</th>\n",
       "      <th>4</th>\n",
       "      <th>5</th>\n",
       "      <th>6</th>\n",
       "      <th>Closure</th>\n",
       "    </tr>\n",
       "  </thead>\n",
       "  <tbody>\n",
       "    <tr>\n",
       "      <th>0</th>\n",
       "      <td>10019</td>\n",
       "      <td>18</td>\n",
       "      <td>31</td>\n",
       "      <td>24</td>\n",
       "      <td>0.0010</td>\n",
       "      <td>0.0016</td>\n",
       "      <td>0.0012</td>\n",
       "      <td>0</td>\n",
       "    </tr>\n",
       "    <tr>\n",
       "      <th>1</th>\n",
       "      <td>10019</td>\n",
       "      <td>1062</td>\n",
       "      <td>1480</td>\n",
       "      <td>1540</td>\n",
       "      <td>0.0601</td>\n",
       "      <td>0.0771</td>\n",
       "      <td>0.0752</td>\n",
       "      <td>0</td>\n",
       "    </tr>\n",
       "    <tr>\n",
       "      <th>2</th>\n",
       "      <td>10019</td>\n",
       "      <td>917</td>\n",
       "      <td>948</td>\n",
       "      <td>816</td>\n",
       "      <td>0.0519</td>\n",
       "      <td>0.0494</td>\n",
       "      <td>0.0398</td>\n",
       "      <td>0</td>\n",
       "    </tr>\n",
       "    <tr>\n",
       "      <th>3</th>\n",
       "      <td>10019</td>\n",
       "      <td>172</td>\n",
       "      <td>154</td>\n",
       "      <td>122</td>\n",
       "      <td>0.0097</td>\n",
       "      <td>0.0080</td>\n",
       "      <td>0.0060</td>\n",
       "      <td>0</td>\n",
       "    </tr>\n",
       "    <tr>\n",
       "      <th>4</th>\n",
       "      <td>10019</td>\n",
       "      <td>2518</td>\n",
       "      <td>2634</td>\n",
       "      <td>2702</td>\n",
       "      <td>0.1425</td>\n",
       "      <td>0.1372</td>\n",
       "      <td>0.1318</td>\n",
       "      <td>0</td>\n",
       "    </tr>\n",
       "    <tr>\n",
       "      <th>...</th>\n",
       "      <td>...</td>\n",
       "      <td>...</td>\n",
       "      <td>...</td>\n",
       "      <td>...</td>\n",
       "      <td>...</td>\n",
       "      <td>...</td>\n",
       "      <td>...</td>\n",
       "      <td>...</td>\n",
       "    </tr>\n",
       "    <tr>\n",
       "      <th>69779</th>\n",
       "      <td>510046</td>\n",
       "      <td>1</td>\n",
       "      <td>2</td>\n",
       "      <td>2</td>\n",
       "      <td>0.0000</td>\n",
       "      <td>0.0001</td>\n",
       "      <td>0.0001</td>\n",
       "      <td>0</td>\n",
       "    </tr>\n",
       "    <tr>\n",
       "      <th>69780</th>\n",
       "      <td>510046</td>\n",
       "      <td>6</td>\n",
       "      <td>11</td>\n",
       "      <td>9</td>\n",
       "      <td>0.0004</td>\n",
       "      <td>0.0006</td>\n",
       "      <td>0.0004</td>\n",
       "      <td>0</td>\n",
       "    </tr>\n",
       "    <tr>\n",
       "      <th>69781</th>\n",
       "      <td>510046</td>\n",
       "      <td>485</td>\n",
       "      <td>644</td>\n",
       "      <td>552</td>\n",
       "      <td>0.0281</td>\n",
       "      <td>0.0339</td>\n",
       "      <td>0.0269</td>\n",
       "      <td>0</td>\n",
       "    </tr>\n",
       "    <tr>\n",
       "      <th>69782</th>\n",
       "      <td>510046</td>\n",
       "      <td>0</td>\n",
       "      <td>0</td>\n",
       "      <td>0</td>\n",
       "      <td>0.0000</td>\n",
       "      <td>0.0000</td>\n",
       "      <td>0.0000</td>\n",
       "      <td>0</td>\n",
       "    </tr>\n",
       "    <tr>\n",
       "      <th>69783</th>\n",
       "      <td>510046</td>\n",
       "      <td>0</td>\n",
       "      <td>0</td>\n",
       "      <td>0</td>\n",
       "      <td>0.0000</td>\n",
       "      <td>0.0000</td>\n",
       "      <td>0.0000</td>\n",
       "      <td>0</td>\n",
       "    </tr>\n",
       "  </tbody>\n",
       "</table>\n",
       "<p>69784 rows × 8 columns</p>\n",
       "</div>"
      ],
      "text/plain": [
       "           id     1     2     3       4       5       6  Closure\n",
       "0       10019    18    31    24  0.0010  0.0016  0.0012        0\n",
       "1       10019  1062  1480  1540  0.0601  0.0771  0.0752        0\n",
       "2       10019   917   948   816  0.0519  0.0494  0.0398        0\n",
       "3       10019   172   154   122  0.0097  0.0080  0.0060        0\n",
       "4       10019  2518  2634  2702  0.1425  0.1372  0.1318        0\n",
       "...       ...   ...   ...   ...     ...     ...     ...      ...\n",
       "69779  510046     1     2     2  0.0000  0.0001  0.0001        0\n",
       "69780  510046     6    11     9  0.0004  0.0006  0.0004        0\n",
       "69781  510046   485   644   552  0.0281  0.0339  0.0269        0\n",
       "69782  510046     0     0     0  0.0000  0.0000  0.0000        0\n",
       "69783  510046     0     0     0  0.0000  0.0000  0.0000        0\n",
       "\n",
       "[69784 rows x 8 columns]"
      ]
     },
     "execution_count": 400,
     "metadata": {},
     "output_type": "execute_result"
    }
   ],
   "source": [
    "dataset4"
   ]
  },
  {
   "cell_type": "code",
   "execution_count": 402,
   "metadata": {},
   "outputs": [
    {
     "ename": "AttributeError",
     "evalue": "'numpy.ndarray' object has no attribute 'to_numpy'",
     "output_type": "error",
     "traceback": [
      "\u001b[1;31m---------------------------------------------------------------------------\u001b[0m",
      "\u001b[1;31mAttributeError\u001b[0m                            Traceback (most recent call last)",
      "\u001b[1;32m<ipython-input-402-23af05adce09>\u001b[0m in \u001b[0;36m<module>\u001b[1;34m\u001b[0m\n\u001b[1;32m----> 1\u001b[1;33m \u001b[0mdataset4\u001b[0m\u001b[1;33m=\u001b[0m\u001b[0mdataset4\u001b[0m\u001b[1;33m.\u001b[0m\u001b[0mto_numpy\u001b[0m\u001b[1;33m(\u001b[0m\u001b[1;33m)\u001b[0m\u001b[1;33m.\u001b[0m\u001b[0mreshape\u001b[0m\u001b[1;33m(\u001b[0m\u001b[1;36m3172\u001b[0m\u001b[1;33m,\u001b[0m\u001b[1;36m8\u001b[0m\u001b[1;33m*\u001b[0m\u001b[1;36m22\u001b[0m\u001b[1;33m)\u001b[0m\u001b[1;33m\u001b[0m\u001b[1;33m\u001b[0m\u001b[0m\n\u001b[0m\u001b[0;32m      2\u001b[0m \u001b[0marr1\u001b[0m\u001b[1;33m=\u001b[0m\u001b[1;33m[\u001b[0m\u001b[0mi\u001b[0m\u001b[1;33m*\u001b[0m\u001b[1;36m8\u001b[0m \u001b[1;32mfor\u001b[0m \u001b[0mi\u001b[0m \u001b[1;32min\u001b[0m \u001b[0mrange\u001b[0m\u001b[1;33m(\u001b[0m\u001b[1;36m22\u001b[0m\u001b[1;33m)\u001b[0m\u001b[1;33m]\u001b[0m\u001b[1;33m\u001b[0m\u001b[1;33m\u001b[0m\u001b[0m\n\u001b[0;32m      3\u001b[0m \u001b[0marr2\u001b[0m\u001b[1;33m=\u001b[0m\u001b[1;33m[\u001b[0m\u001b[0mi\u001b[0m\u001b[1;33m*\u001b[0m\u001b[1;36m8\u001b[0m\u001b[1;33m+\u001b[0m\u001b[1;36m7\u001b[0m \u001b[1;32mfor\u001b[0m \u001b[0mi\u001b[0m \u001b[1;32min\u001b[0m \u001b[0mrange\u001b[0m\u001b[1;33m(\u001b[0m\u001b[1;36m22\u001b[0m\u001b[1;33m)\u001b[0m\u001b[1;33m]\u001b[0m\u001b[1;33m\u001b[0m\u001b[1;33m\u001b[0m\u001b[0m\n\u001b[0;32m      4\u001b[0m \u001b[0marr\u001b[0m\u001b[1;33m=\u001b[0m\u001b[0mnp\u001b[0m\u001b[1;33m.\u001b[0m\u001b[0marray\u001b[0m\u001b[1;33m(\u001b[0m\u001b[1;33m[\u001b[0m\u001b[0marr1\u001b[0m\u001b[1;33m,\u001b[0m\u001b[0marr2\u001b[0m\u001b[1;33m]\u001b[0m\u001b[1;33m)\u001b[0m\u001b[1;33m.\u001b[0m\u001b[0mflatten\u001b[0m\u001b[1;33m(\u001b[0m\u001b[1;33m)\u001b[0m\u001b[1;33m\u001b[0m\u001b[1;33m\u001b[0m\u001b[0m\n\u001b[0;32m      5\u001b[0m \u001b[0marr\u001b[0m\u001b[1;33m.\u001b[0m\u001b[0msort\u001b[0m\u001b[1;33m(\u001b[0m\u001b[1;33m)\u001b[0m\u001b[1;33m\u001b[0m\u001b[1;33m\u001b[0m\u001b[0m\n",
      "\u001b[1;31mAttributeError\u001b[0m: 'numpy.ndarray' object has no attribute 'to_numpy'"
     ]
    }
   ],
   "source": [
    "dataset4=dataset4.to_numpy().reshape(3172,8*22)"
   ]
  },
  {
   "cell_type": "code",
   "execution_count": 403,
   "metadata": {},
   "outputs": [],
   "source": [
    "arr1=[i*8 for i in range(22)]\r\n",
    "arr2=[i*8+7 for i in range(22)]\r\n",
    "arr=np.array([arr1,arr2]).flatten()\r\n",
    "arr.sort()"
   ]
  },
  {
   "cell_type": "code",
   "execution_count": 404,
   "metadata": {},
   "outputs": [
    {
     "data": {
      "text/plain": [
       "(3172, 133)"
      ]
     },
     "execution_count": 404,
     "metadata": {},
     "output_type": "execute_result"
    }
   ],
   "source": [
    "dataset4=np.delete(dataset4,arr[:-1],axis=1)\r\n",
    "dataset4.shape"
   ]
  },
  {
   "cell_type": "code",
   "execution_count": 479,
   "metadata": {},
   "outputs": [],
   "source": [
    "dataset1=pd.read_csv('data\\hospital_compare\\Copy of HQI_HOSP_TimelyEffectiveCare.csv')"
   ]
  },
  {
   "cell_type": "code",
   "execution_count": 313,
   "metadata": {},
   "outputs": [
    {
     "data": {
      "text/html": [
       "<div>\n",
       "<style scoped>\n",
       "    .dataframe tbody tr th:only-of-type {\n",
       "        vertical-align: middle;\n",
       "    }\n",
       "\n",
       "    .dataframe tbody tr th {\n",
       "        vertical-align: top;\n",
       "    }\n",
       "\n",
       "    .dataframe thead th {\n",
       "        text-align: right;\n",
       "    }\n",
       "</style>\n",
       "<table border=\"1\" class=\"dataframe\">\n",
       "  <thead>\n",
       "    <tr style=\"text-align: right;\">\n",
       "      <th></th>\n",
       "      <th>Provider ID</th>\n",
       "      <th>Hospital Name</th>\n",
       "      <th>Condition</th>\n",
       "      <th>Measure ID</th>\n",
       "      <th>Measure Name</th>\n",
       "      <th>Score</th>\n",
       "      <th>Sample</th>\n",
       "      <th>Footnote</th>\n",
       "      <th>Measure Start Date</th>\n",
       "      <th>Measure End Date</th>\n",
       "    </tr>\n",
       "  </thead>\n",
       "  <tbody>\n",
       "    <tr>\n",
       "      <th>0</th>\n",
       "      <td>010001</td>\n",
       "      <td>SOUTHEAST ALABAMA MEDICAL CENTER</td>\n",
       "      <td>Heart Attack or Chest Pain</td>\n",
       "      <td>AMI_10</td>\n",
       "      <td>Statin at Discharge</td>\n",
       "      <td>98</td>\n",
       "      <td>607</td>\n",
       "      <td>NaN</td>\n",
       "      <td>07/01/2013</td>\n",
       "      <td>06/30/2014</td>\n",
       "    </tr>\n",
       "    <tr>\n",
       "      <th>1</th>\n",
       "      <td>010001</td>\n",
       "      <td>SOUTHEAST ALABAMA MEDICAL CENTER</td>\n",
       "      <td>Heart Attack or Chest Pain</td>\n",
       "      <td>AMI_2</td>\n",
       "      <td>Aspirin prescribed at discharge</td>\n",
       "      <td>99</td>\n",
       "      <td>639</td>\n",
       "      <td>NaN</td>\n",
       "      <td>07/01/2013</td>\n",
       "      <td>06/30/2014</td>\n",
       "    </tr>\n",
       "    <tr>\n",
       "      <th>2</th>\n",
       "      <td>010001</td>\n",
       "      <td>SOUTHEAST ALABAMA MEDICAL CENTER</td>\n",
       "      <td>Heart Attack or Chest Pain</td>\n",
       "      <td>AMI_7a</td>\n",
       "      <td>Fibrinolytic Therapy Received Within 30 Minute...</td>\n",
       "      <td>Not Available</td>\n",
       "      <td>0</td>\n",
       "      <td>7</td>\n",
       "      <td>07/01/2013</td>\n",
       "      <td>06/30/2014</td>\n",
       "    </tr>\n",
       "    <tr>\n",
       "      <th>3</th>\n",
       "      <td>010001</td>\n",
       "      <td>SOUTHEAST ALABAMA MEDICAL CENTER</td>\n",
       "      <td>Heart Attack or Chest Pain</td>\n",
       "      <td>AMI_8a</td>\n",
       "      <td>Primary PCI Received Within 90 Minutes of Hosp...</td>\n",
       "      <td>94</td>\n",
       "      <td>50</td>\n",
       "      <td>NaN</td>\n",
       "      <td>07/01/2013</td>\n",
       "      <td>06/30/2014</td>\n",
       "    </tr>\n",
       "    <tr>\n",
       "      <th>4</th>\n",
       "      <td>010001</td>\n",
       "      <td>SOUTHEAST ALABAMA MEDICAL CENTER</td>\n",
       "      <td>Emergency Department</td>\n",
       "      <td>ED_1b</td>\n",
       "      <td>ED1</td>\n",
       "      <td>282</td>\n",
       "      <td>475</td>\n",
       "      <td>2</td>\n",
       "      <td>07/01/2013</td>\n",
       "      <td>06/30/2014</td>\n",
       "    </tr>\n",
       "    <tr>\n",
       "      <th>...</th>\n",
       "      <td>...</td>\n",
       "      <td>...</td>\n",
       "      <td>...</td>\n",
       "      <td>...</td>\n",
       "      <td>...</td>\n",
       "      <td>...</td>\n",
       "      <td>...</td>\n",
       "      <td>...</td>\n",
       "      <td>...</td>\n",
       "      <td>...</td>\n",
       "    </tr>\n",
       "    <tr>\n",
       "      <th>217710</th>\n",
       "      <td>670092</td>\n",
       "      <td>WALNUT HILL MEDICAL CENTER</td>\n",
       "      <td>Blood Clot Prevention and Treatment</td>\n",
       "      <td>VTE_2</td>\n",
       "      <td>ICU venous thromboembolism prophylaxis</td>\n",
       "      <td>Not Available</td>\n",
       "      <td>Not Available</td>\n",
       "      <td>5</td>\n",
       "      <td>07/01/2013</td>\n",
       "      <td>06/30/2014</td>\n",
       "    </tr>\n",
       "    <tr>\n",
       "      <th>217711</th>\n",
       "      <td>670092</td>\n",
       "      <td>WALNUT HILL MEDICAL CENTER</td>\n",
       "      <td>Blood Clot Prevention and Treatment</td>\n",
       "      <td>VTE_3</td>\n",
       "      <td>Anticoagulation overlap therapy</td>\n",
       "      <td>Not Available</td>\n",
       "      <td>Not Available</td>\n",
       "      <td>5</td>\n",
       "      <td>07/01/2013</td>\n",
       "      <td>06/30/2014</td>\n",
       "    </tr>\n",
       "    <tr>\n",
       "      <th>217712</th>\n",
       "      <td>670092</td>\n",
       "      <td>WALNUT HILL MEDICAL CENTER</td>\n",
       "      <td>Blood Clot Prevention and Treatment</td>\n",
       "      <td>VTE_4</td>\n",
       "      <td>Unfractionated heparin with dosages/platelet c...</td>\n",
       "      <td>Not Available</td>\n",
       "      <td>Not Available</td>\n",
       "      <td>5</td>\n",
       "      <td>07/01/2013</td>\n",
       "      <td>06/30/2014</td>\n",
       "    </tr>\n",
       "    <tr>\n",
       "      <th>217713</th>\n",
       "      <td>670092</td>\n",
       "      <td>WALNUT HILL MEDICAL CENTER</td>\n",
       "      <td>Blood Clot Prevention and Treatment</td>\n",
       "      <td>VTE_5</td>\n",
       "      <td>Warfarin therapy discharge instructions</td>\n",
       "      <td>Not Available</td>\n",
       "      <td>Not Available</td>\n",
       "      <td>5</td>\n",
       "      <td>07/01/2013</td>\n",
       "      <td>06/30/2014</td>\n",
       "    </tr>\n",
       "    <tr>\n",
       "      <th>217714</th>\n",
       "      <td>670092</td>\n",
       "      <td>WALNUT HILL MEDICAL CENTER</td>\n",
       "      <td>Blood Clot Prevention and Treatment</td>\n",
       "      <td>VTE_6</td>\n",
       "      <td>Incidence of potentially preventable VTE</td>\n",
       "      <td>Not Available</td>\n",
       "      <td>Not Available</td>\n",
       "      <td>5</td>\n",
       "      <td>07/01/2013</td>\n",
       "      <td>06/30/2014</td>\n",
       "    </tr>\n",
       "  </tbody>\n",
       "</table>\n",
       "<p>217715 rows × 10 columns</p>\n",
       "</div>"
      ],
      "text/plain": [
       "       Provider ID                     Hospital Name  \\\n",
       "0           010001  SOUTHEAST ALABAMA MEDICAL CENTER   \n",
       "1           010001  SOUTHEAST ALABAMA MEDICAL CENTER   \n",
       "2           010001  SOUTHEAST ALABAMA MEDICAL CENTER   \n",
       "3           010001  SOUTHEAST ALABAMA MEDICAL CENTER   \n",
       "4           010001  SOUTHEAST ALABAMA MEDICAL CENTER   \n",
       "...            ...                               ...   \n",
       "217710      670092        WALNUT HILL MEDICAL CENTER   \n",
       "217711      670092        WALNUT HILL MEDICAL CENTER   \n",
       "217712      670092        WALNUT HILL MEDICAL CENTER   \n",
       "217713      670092        WALNUT HILL MEDICAL CENTER   \n",
       "217714      670092        WALNUT HILL MEDICAL CENTER   \n",
       "\n",
       "                                  Condition Measure ID  \\\n",
       "0                Heart Attack or Chest Pain     AMI_10   \n",
       "1                Heart Attack or Chest Pain      AMI_2   \n",
       "2                Heart Attack or Chest Pain     AMI_7a   \n",
       "3                Heart Attack or Chest Pain     AMI_8a   \n",
       "4                      Emergency Department      ED_1b   \n",
       "...                                     ...        ...   \n",
       "217710  Blood Clot Prevention and Treatment      VTE_2   \n",
       "217711  Blood Clot Prevention and Treatment      VTE_3   \n",
       "217712  Blood Clot Prevention and Treatment      VTE_4   \n",
       "217713  Blood Clot Prevention and Treatment      VTE_5   \n",
       "217714  Blood Clot Prevention and Treatment      VTE_6   \n",
       "\n",
       "                                             Measure Name          Score  \\\n",
       "0                                     Statin at Discharge             98   \n",
       "1                         Aspirin prescribed at discharge             99   \n",
       "2       Fibrinolytic Therapy Received Within 30 Minute...  Not Available   \n",
       "3       Primary PCI Received Within 90 Minutes of Hosp...             94   \n",
       "4                                                     ED1            282   \n",
       "...                                                   ...            ...   \n",
       "217710             ICU venous thromboembolism prophylaxis  Not Available   \n",
       "217711                    Anticoagulation overlap therapy  Not Available   \n",
       "217712  Unfractionated heparin with dosages/platelet c...  Not Available   \n",
       "217713            Warfarin therapy discharge instructions  Not Available   \n",
       "217714           Incidence of potentially preventable VTE  Not Available   \n",
       "\n",
       "               Sample Footnote Measure Start Date Measure End Date  \n",
       "0                 607      NaN         07/01/2013       06/30/2014  \n",
       "1                 639      NaN         07/01/2013       06/30/2014  \n",
       "2                   0        7         07/01/2013       06/30/2014  \n",
       "3                  50      NaN         07/01/2013       06/30/2014  \n",
       "4                 475        2         07/01/2013       06/30/2014  \n",
       "...               ...      ...                ...              ...  \n",
       "217710  Not Available        5         07/01/2013       06/30/2014  \n",
       "217711  Not Available        5         07/01/2013       06/30/2014  \n",
       "217712  Not Available        5         07/01/2013       06/30/2014  \n",
       "217713  Not Available        5         07/01/2013       06/30/2014  \n",
       "217714  Not Available        5         07/01/2013       06/30/2014  \n",
       "\n",
       "[217715 rows x 10 columns]"
      ]
     },
     "execution_count": 313,
     "metadata": {},
     "output_type": "execute_result"
    }
   ],
   "source": [
    "dataset1"
   ]
  },
  {
   "cell_type": "code",
   "execution_count": 314,
   "metadata": {},
   "outputs": [
    {
     "data": {
      "text/plain": [
       "100038    51\n",
       "340015    51\n",
       "050045    51\n",
       "260020    51\n",
       "340001    51\n",
       "          ..\n",
       "05127F    12\n",
       "08002F    12\n",
       "06005F    12\n",
       "50013F    12\n",
       "05031F    12\n",
       "Name: Provider ID, Length: 4804, dtype: int64"
      ]
     },
     "execution_count": 314,
     "metadata": {},
     "output_type": "execute_result"
    }
   ],
   "source": [
    "dataset1['Provider ID'].value_counts()"
   ]
  },
  {
   "cell_type": "code",
   "execution_count": 477,
   "metadata": {},
   "outputs": [],
   "source": [
    "dataset1=pd.DataFrame(dataset1,columns=['Provider ID','Score','Sample'])"
   ]
  },
  {
   "cell_type": "code",
   "execution_count": 478,
   "metadata": {},
   "outputs": [
    {
     "data": {
      "text/html": [
       "<div>\n",
       "<style scoped>\n",
       "    .dataframe tbody tr th:only-of-type {\n",
       "        vertical-align: middle;\n",
       "    }\n",
       "\n",
       "    .dataframe tbody tr th {\n",
       "        vertical-align: top;\n",
       "    }\n",
       "\n",
       "    .dataframe thead th {\n",
       "        text-align: right;\n",
       "    }\n",
       "</style>\n",
       "<table border=\"1\" class=\"dataframe\">\n",
       "  <thead>\n",
       "    <tr style=\"text-align: right;\">\n",
       "      <th></th>\n",
       "      <th>Provider ID</th>\n",
       "      <th>Score</th>\n",
       "      <th>Sample</th>\n",
       "    </tr>\n",
       "  </thead>\n",
       "  <tbody>\n",
       "    <tr>\n",
       "      <th>0</th>\n",
       "      <td>010001</td>\n",
       "      <td>98</td>\n",
       "      <td>607</td>\n",
       "    </tr>\n",
       "    <tr>\n",
       "      <th>1</th>\n",
       "      <td>010001</td>\n",
       "      <td>99</td>\n",
       "      <td>639</td>\n",
       "    </tr>\n",
       "    <tr>\n",
       "      <th>2</th>\n",
       "      <td>010001</td>\n",
       "      <td>NaN</td>\n",
       "      <td>0</td>\n",
       "    </tr>\n",
       "    <tr>\n",
       "      <th>3</th>\n",
       "      <td>010001</td>\n",
       "      <td>94</td>\n",
       "      <td>50</td>\n",
       "    </tr>\n",
       "    <tr>\n",
       "      <th>4</th>\n",
       "      <td>010001</td>\n",
       "      <td>282</td>\n",
       "      <td>475</td>\n",
       "    </tr>\n",
       "    <tr>\n",
       "      <th>...</th>\n",
       "      <td>...</td>\n",
       "      <td>...</td>\n",
       "      <td>...</td>\n",
       "    </tr>\n",
       "    <tr>\n",
       "      <th>217710</th>\n",
       "      <td>670092</td>\n",
       "      <td>NaN</td>\n",
       "      <td>NaN</td>\n",
       "    </tr>\n",
       "    <tr>\n",
       "      <th>217711</th>\n",
       "      <td>670092</td>\n",
       "      <td>NaN</td>\n",
       "      <td>NaN</td>\n",
       "    </tr>\n",
       "    <tr>\n",
       "      <th>217712</th>\n",
       "      <td>670092</td>\n",
       "      <td>NaN</td>\n",
       "      <td>NaN</td>\n",
       "    </tr>\n",
       "    <tr>\n",
       "      <th>217713</th>\n",
       "      <td>670092</td>\n",
       "      <td>NaN</td>\n",
       "      <td>NaN</td>\n",
       "    </tr>\n",
       "    <tr>\n",
       "      <th>217714</th>\n",
       "      <td>670092</td>\n",
       "      <td>NaN</td>\n",
       "      <td>NaN</td>\n",
       "    </tr>\n",
       "  </tbody>\n",
       "</table>\n",
       "<p>217715 rows × 3 columns</p>\n",
       "</div>"
      ],
      "text/plain": [
       "       Provider ID Score Sample\n",
       "0           010001    98    607\n",
       "1           010001    99    639\n",
       "2           010001   NaN      0\n",
       "3           010001    94     50\n",
       "4           010001   282    475\n",
       "...            ...   ...    ...\n",
       "217710      670092   NaN    NaN\n",
       "217711      670092   NaN    NaN\n",
       "217712      670092   NaN    NaN\n",
       "217713      670092   NaN    NaN\n",
       "217714      670092   NaN    NaN\n",
       "\n",
       "[217715 rows x 3 columns]"
      ]
     },
     "execution_count": 478,
     "metadata": {},
     "output_type": "execute_result"
    }
   ],
   "source": [
    "dataset1.replace({'Not Available':np.nan})"
   ]
  },
  {
   "cell_type": "code",
   "execution_count": 275,
   "metadata": {},
   "outputs": [],
   "source": [
    "dataset2=pd.read_csv('data\\hospital_compare\\Copy of Medicare Hospital Spending by Claim.csv')"
   ]
  },
  {
   "cell_type": "code",
   "execution_count": 276,
   "metadata": {},
   "outputs": [
    {
     "data": {
      "text/html": [
       "<div>\n",
       "<style scoped>\n",
       "    .dataframe tbody tr th:only-of-type {\n",
       "        vertical-align: middle;\n",
       "    }\n",
       "\n",
       "    .dataframe tbody tr th {\n",
       "        vertical-align: top;\n",
       "    }\n",
       "\n",
       "    .dataframe thead th {\n",
       "        text-align: right;\n",
       "    }\n",
       "</style>\n",
       "<table border=\"1\" class=\"dataframe\">\n",
       "  <thead>\n",
       "    <tr style=\"text-align: right;\">\n",
       "      <th></th>\n",
       "      <th>Hospital Name</th>\n",
       "      <th>Provider Number</th>\n",
       "      <th>Period</th>\n",
       "      <th>State</th>\n",
       "      <th>Claim Type</th>\n",
       "      <th>Avg Spending Per Episode (Hospital)</th>\n",
       "      <th>Avg Spending Per Episode (State)</th>\n",
       "      <th>Avg Spending Per Episode (Nation)</th>\n",
       "      <th>Percent of Spending (Hospital)</th>\n",
       "      <th>Percent of Spending (State)</th>\n",
       "      <th>Percent of Spending (Nation)</th>\n",
       "      <th>Measure Start Date</th>\n",
       "      <th>Measure End Date</th>\n",
       "    </tr>\n",
       "  </thead>\n",
       "  <tbody>\n",
       "    <tr>\n",
       "      <th>0</th>\n",
       "      <td>SOUTHEAST ALABAMA MEDICAL CENTER</td>\n",
       "      <td>10001</td>\n",
       "      <td>1 to 3 days Prior to Index Hospital Admission</td>\n",
       "      <td>AL</td>\n",
       "      <td>Home Health Agency</td>\n",
       "      <td>$19</td>\n",
       "      <td>$16</td>\n",
       "      <td>$13</td>\n",
       "      <td>0.10%</td>\n",
       "      <td>0.09%</td>\n",
       "      <td>0.07%</td>\n",
       "      <td>1/1/2013</td>\n",
       "      <td>12/31/2013</td>\n",
       "    </tr>\n",
       "    <tr>\n",
       "      <th>1</th>\n",
       "      <td>SOUTHEAST ALABAMA MEDICAL CENTER</td>\n",
       "      <td>10001</td>\n",
       "      <td>1 to 3 days Prior to Index Hospital Admission</td>\n",
       "      <td>AL</td>\n",
       "      <td>Hospice</td>\n",
       "      <td>$0</td>\n",
       "      <td>$2</td>\n",
       "      <td>$1</td>\n",
       "      <td>0.00%</td>\n",
       "      <td>0.01%</td>\n",
       "      <td>0.00%</td>\n",
       "      <td>1/1/2013</td>\n",
       "      <td>12/31/2013</td>\n",
       "    </tr>\n",
       "    <tr>\n",
       "      <th>2</th>\n",
       "      <td>SOUTHEAST ALABAMA MEDICAL CENTER</td>\n",
       "      <td>10001</td>\n",
       "      <td>1 to 3 days Prior to Index Hospital Admission</td>\n",
       "      <td>AL</td>\n",
       "      <td>Inpatient</td>\n",
       "      <td>$5</td>\n",
       "      <td>$5</td>\n",
       "      <td>$5</td>\n",
       "      <td>0.03%</td>\n",
       "      <td>0.03%</td>\n",
       "      <td>0.02%</td>\n",
       "      <td>1/1/2013</td>\n",
       "      <td>12/31/2013</td>\n",
       "    </tr>\n",
       "    <tr>\n",
       "      <th>3</th>\n",
       "      <td>SOUTHEAST ALABAMA MEDICAL CENTER</td>\n",
       "      <td>10001</td>\n",
       "      <td>1 to 3 days Prior to Index Hospital Admission</td>\n",
       "      <td>AL</td>\n",
       "      <td>Outpatient</td>\n",
       "      <td>$138</td>\n",
       "      <td>$76</td>\n",
       "      <td>$113</td>\n",
       "      <td>0.72%</td>\n",
       "      <td>0.42%</td>\n",
       "      <td>0.58%</td>\n",
       "      <td>1/1/2013</td>\n",
       "      <td>12/31/2013</td>\n",
       "    </tr>\n",
       "    <tr>\n",
       "      <th>4</th>\n",
       "      <td>SOUTHEAST ALABAMA MEDICAL CENTER</td>\n",
       "      <td>10001</td>\n",
       "      <td>1 to 3 days Prior to Index Hospital Admission</td>\n",
       "      <td>AL</td>\n",
       "      <td>Skilled Nursing Facility</td>\n",
       "      <td>$1</td>\n",
       "      <td>$2</td>\n",
       "      <td>$2</td>\n",
       "      <td>0.01%</td>\n",
       "      <td>0.01%</td>\n",
       "      <td>0.01%</td>\n",
       "      <td>1/1/2013</td>\n",
       "      <td>12/31/2013</td>\n",
       "    </tr>\n",
       "    <tr>\n",
       "      <th>...</th>\n",
       "      <td>...</td>\n",
       "      <td>...</td>\n",
       "      <td>...</td>\n",
       "      <td>...</td>\n",
       "      <td>...</td>\n",
       "      <td>...</td>\n",
       "      <td>...</td>\n",
       "      <td>...</td>\n",
       "      <td>...</td>\n",
       "      <td>...</td>\n",
       "      <td>...</td>\n",
       "      <td>...</td>\n",
       "      <td>...</td>\n",
       "    </tr>\n",
       "    <tr>\n",
       "      <th>71055</th>\n",
       "      <td>SCOTT &amp; WHITE HOSPITAL- COLLEGE STATION</td>\n",
       "      <td>670088</td>\n",
       "      <td>1 through 30 days After Discharge from Index H...</td>\n",
       "      <td>TX</td>\n",
       "      <td>Outpatient</td>\n",
       "      <td>$448</td>\n",
       "      <td>$667</td>\n",
       "      <td>$664</td>\n",
       "      <td>2.58%</td>\n",
       "      <td>3.18%</td>\n",
       "      <td>3.39%</td>\n",
       "      <td>1/1/2013</td>\n",
       "      <td>12/31/2013</td>\n",
       "    </tr>\n",
       "    <tr>\n",
       "      <th>71056</th>\n",
       "      <td>SCOTT &amp; WHITE HOSPITAL- COLLEGE STATION</td>\n",
       "      <td>670088</td>\n",
       "      <td>1 through 30 days After Discharge from Index H...</td>\n",
       "      <td>TX</td>\n",
       "      <td>Skilled Nursing Facility</td>\n",
       "      <td>$2,638</td>\n",
       "      <td>$2,729</td>\n",
       "      <td>$3,087</td>\n",
       "      <td>15.19%</td>\n",
       "      <td>13.00%</td>\n",
       "      <td>15.77%</td>\n",
       "      <td>1/1/2013</td>\n",
       "      <td>12/31/2013</td>\n",
       "    </tr>\n",
       "    <tr>\n",
       "      <th>71057</th>\n",
       "      <td>SCOTT &amp; WHITE HOSPITAL- COLLEGE STATION</td>\n",
       "      <td>670088</td>\n",
       "      <td>1 through 30 days After Discharge from Index H...</td>\n",
       "      <td>TX</td>\n",
       "      <td>Durable Medical Equipment</td>\n",
       "      <td>$94</td>\n",
       "      <td>$124</td>\n",
       "      <td>$107</td>\n",
       "      <td>0.54%</td>\n",
       "      <td>0.59%</td>\n",
       "      <td>0.55%</td>\n",
       "      <td>1/1/2013</td>\n",
       "      <td>12/31/2013</td>\n",
       "    </tr>\n",
       "    <tr>\n",
       "      <th>71058</th>\n",
       "      <td>SCOTT &amp; WHITE HOSPITAL- COLLEGE STATION</td>\n",
       "      <td>670088</td>\n",
       "      <td>1 through 30 days After Discharge from Index H...</td>\n",
       "      <td>TX</td>\n",
       "      <td>Carrier</td>\n",
       "      <td>$755</td>\n",
       "      <td>$1,211</td>\n",
       "      <td>$1,078</td>\n",
       "      <td>4.35%</td>\n",
       "      <td>5.77%</td>\n",
       "      <td>5.51%</td>\n",
       "      <td>1/1/2013</td>\n",
       "      <td>12/31/2013</td>\n",
       "    </tr>\n",
       "    <tr>\n",
       "      <th>71059</th>\n",
       "      <td>SCOTT &amp; WHITE HOSPITAL- COLLEGE STATION</td>\n",
       "      <td>670088</td>\n",
       "      <td>Complete Episode</td>\n",
       "      <td>TX</td>\n",
       "      <td>Total</td>\n",
       "      <td>$17,365</td>\n",
       "      <td>$20,999</td>\n",
       "      <td>$19,578</td>\n",
       "      <td>100.00%</td>\n",
       "      <td>100.00%</td>\n",
       "      <td>100.00%</td>\n",
       "      <td>1/1/2013</td>\n",
       "      <td>12/31/2013</td>\n",
       "    </tr>\n",
       "  </tbody>\n",
       "</table>\n",
       "<p>71060 rows × 13 columns</p>\n",
       "</div>"
      ],
      "text/plain": [
       "                                 Hospital Name  Provider Number  \\\n",
       "0             SOUTHEAST ALABAMA MEDICAL CENTER            10001   \n",
       "1             SOUTHEAST ALABAMA MEDICAL CENTER            10001   \n",
       "2             SOUTHEAST ALABAMA MEDICAL CENTER            10001   \n",
       "3             SOUTHEAST ALABAMA MEDICAL CENTER            10001   \n",
       "4             SOUTHEAST ALABAMA MEDICAL CENTER            10001   \n",
       "...                                        ...              ...   \n",
       "71055  SCOTT & WHITE HOSPITAL- COLLEGE STATION           670088   \n",
       "71056  SCOTT & WHITE HOSPITAL- COLLEGE STATION           670088   \n",
       "71057  SCOTT & WHITE HOSPITAL- COLLEGE STATION           670088   \n",
       "71058  SCOTT & WHITE HOSPITAL- COLLEGE STATION           670088   \n",
       "71059  SCOTT & WHITE HOSPITAL- COLLEGE STATION           670088   \n",
       "\n",
       "                                                  Period State  \\\n",
       "0          1 to 3 days Prior to Index Hospital Admission    AL   \n",
       "1          1 to 3 days Prior to Index Hospital Admission    AL   \n",
       "2          1 to 3 days Prior to Index Hospital Admission    AL   \n",
       "3          1 to 3 days Prior to Index Hospital Admission    AL   \n",
       "4          1 to 3 days Prior to Index Hospital Admission    AL   \n",
       "...                                                  ...   ...   \n",
       "71055  1 through 30 days After Discharge from Index H...    TX   \n",
       "71056  1 through 30 days After Discharge from Index H...    TX   \n",
       "71057  1 through 30 days After Discharge from Index H...    TX   \n",
       "71058  1 through 30 days After Discharge from Index H...    TX   \n",
       "71059                                   Complete Episode    TX   \n",
       "\n",
       "                      Claim Type Avg Spending Per Episode (Hospital)  \\\n",
       "0             Home Health Agency                                 $19   \n",
       "1                        Hospice                                  $0   \n",
       "2                      Inpatient                                  $5   \n",
       "3                     Outpatient                                $138   \n",
       "4       Skilled Nursing Facility                                  $1   \n",
       "...                          ...                                 ...   \n",
       "71055                 Outpatient                                $448   \n",
       "71056   Skilled Nursing Facility                              $2,638   \n",
       "71057  Durable Medical Equipment                                 $94   \n",
       "71058                    Carrier                                $755   \n",
       "71059                      Total                             $17,365   \n",
       "\n",
       "      Avg Spending Per Episode (State) Avg Spending Per Episode (Nation)  \\\n",
       "0                                  $16                               $13   \n",
       "1                                   $2                                $1   \n",
       "2                                   $5                                $5   \n",
       "3                                  $76                              $113   \n",
       "4                                   $2                                $2   \n",
       "...                                ...                               ...   \n",
       "71055                             $667                              $664   \n",
       "71056                           $2,729                            $3,087   \n",
       "71057                             $124                              $107   \n",
       "71058                           $1,211                            $1,078   \n",
       "71059                          $20,999                           $19,578   \n",
       "\n",
       "      Percent of Spending (Hospital) Percent of Spending (State)  \\\n",
       "0                              0.10%                       0.09%   \n",
       "1                              0.00%                       0.01%   \n",
       "2                              0.03%                       0.03%   \n",
       "3                              0.72%                       0.42%   \n",
       "4                              0.01%                       0.01%   \n",
       "...                              ...                         ...   \n",
       "71055                          2.58%                       3.18%   \n",
       "71056                         15.19%                      13.00%   \n",
       "71057                          0.54%                       0.59%   \n",
       "71058                          4.35%                       5.77%   \n",
       "71059                        100.00%                     100.00%   \n",
       "\n",
       "      Percent of Spending (Nation) Measure Start Date Measure End Date  \n",
       "0                            0.07%           1/1/2013       12/31/2013  \n",
       "1                            0.00%           1/1/2013       12/31/2013  \n",
       "2                            0.02%           1/1/2013       12/31/2013  \n",
       "3                            0.58%           1/1/2013       12/31/2013  \n",
       "4                            0.01%           1/1/2013       12/31/2013  \n",
       "...                            ...                ...              ...  \n",
       "71055                        3.39%           1/1/2013       12/31/2013  \n",
       "71056                       15.77%           1/1/2013       12/31/2013  \n",
       "71057                        0.55%           1/1/2013       12/31/2013  \n",
       "71058                        5.51%           1/1/2013       12/31/2013  \n",
       "71059                      100.00%           1/1/2013       12/31/2013  \n",
       "\n",
       "[71060 rows x 13 columns]"
      ]
     },
     "execution_count": 276,
     "metadata": {},
     "output_type": "execute_result"
    }
   ],
   "source": [
    "dataset2"
   ]
  },
  {
   "cell_type": "code",
   "execution_count": 277,
   "metadata": {},
   "outputs": [
    {
     "data": {
      "text/plain": [
       "1 through 30 days After Discharge from Index Hospital Admission    22610\n",
       "1 to 3 days Prior to Index Hospital Admission                      22610\n",
       "During Index Hospital Admission                                    22610\n",
       "Complete Episode                                                    3230\n",
       "Name: Period, dtype: int64"
      ]
     },
     "execution_count": 277,
     "metadata": {},
     "output_type": "execute_result"
    }
   ],
   "source": [
    "dataset2['Period'].value_counts()"
   ]
  },
  {
   "cell_type": "code",
   "execution_count": 278,
   "metadata": {},
   "outputs": [],
   "source": [
    "dataset2.drop(columns=['Hospital Name','Period','State','Claim Type','Measure Start Date','Measure End Date'],inplace=True)"
   ]
  },
  {
   "cell_type": "code",
   "execution_count": 279,
   "metadata": {},
   "outputs": [],
   "source": [
    "dataset2['Percent of Spending (Hospital)']=dataset2['Percent of Spending (Hospital)'].str.strip(\"%\").astype(float)/100\r\n",
    "dataset2['Percent of Spending (State)']=dataset2['Percent of Spending (State)'].str.strip(\"%\").astype(float)/100\r\n",
    "dataset2['Percent of Spending (Nation)']=dataset2['Percent of Spending (Nation)'].str.strip(\"%\").astype(float)/100"
   ]
  },
  {
   "cell_type": "code",
   "execution_count": 280,
   "metadata": {},
   "outputs": [],
   "source": [
    "dataset2['Avg Spending Per Episode (Hospital)']=dataset2['Avg Spending Per Episode (Hospital)'].str.strip(\"$\")\r\n",
    "dataset2['Avg Spending Per Episode (Hospital)']=dataset2['Avg Spending Per Episode (Hospital)'].str.replace(',', '')"
   ]
  },
  {
   "cell_type": "code",
   "execution_count": 281,
   "metadata": {},
   "outputs": [],
   "source": [
    "dataset2['Avg Spending Per Episode (State)']=dataset2['Avg Spending Per Episode (State)'].str.strip(\"$\")\r\n",
    "dataset2['Avg Spending Per Episode (State)']=dataset2['Avg Spending Per Episode (State)'].str.replace(',', '')"
   ]
  },
  {
   "cell_type": "code",
   "execution_count": 282,
   "metadata": {},
   "outputs": [],
   "source": [
    "dataset2['Avg Spending Per Episode (Nation)']=dataset2['Avg Spending Per Episode (Nation)'].str.strip(\"$\")\r\n",
    "dataset2['Avg Spending Per Episode (Nation)']=dataset2['Avg Spending Per Episode (Nation)'].str.replace(',', '')"
   ]
  },
  {
   "cell_type": "code",
   "execution_count": 398,
   "metadata": {},
   "outputs": [],
   "source": [
    "sub_ds1=dataset_close[dataset_close['year_close_combined']==2014]\r\n",
    "sub_ds2=dataset_close[dataset_close['year_close_combined']==2015]\r\n",
    "sub_ds3=dataset_close[dataset_close['year_close_combined']==2013]\r\n",
    "sub_ds=pd.concat([sub_ds1,sub_ds2,sub_ds3])\r\n",
    "dataset2=dataset2.rename(columns={'Provider Number':'id'})\r\n",
    "dataset2['Closure']=dataset2.id.apply(lambda x:1 if x in np.array(sub_ds['id']) else 0)"
   ]
  },
  {
   "cell_type": "code",
   "execution_count": 399,
   "metadata": {},
   "outputs": [
    {
     "data": {
      "text/plain": [
       "450497    22\n",
       "200025    22\n",
       "170010    22\n",
       "260147    22\n",
       "40042     22\n",
       "420054    22\n",
       "250084    22\n",
       "450795    22\n",
       "50435     22\n",
       "450832    22\n",
       "670002    22\n",
       "450884    22\n",
       "370051    22\n",
       "180149    22\n",
       "450005    22\n",
       "190009    22\n",
       "110183    22\n",
       "450188    22\n",
       "140026    22\n",
       "450373    22\n",
       "440174    22\n",
       "100239    22\n",
       "180117    22\n",
       "220067    22\n",
       "260116    22\n",
       "Name: id, dtype: int64"
      ]
     },
     "execution_count": 399,
     "metadata": {},
     "output_type": "execute_result"
    }
   ],
   "source": [
    "dataset2[dataset2['Closure']==1]['id'].value_counts()"
   ]
  },
  {
   "cell_type": "code",
   "execution_count": 286,
   "metadata": {},
   "outputs": [],
   "source": [
    "for col in dataset2:\r\n",
    "    dataset2[col]=pd.to_numeric(dataset2[col])"
   ]
  },
  {
   "cell_type": "code",
   "execution_count": 564,
   "metadata": {},
   "outputs": [],
   "source": [
    "dataset3=dataset2.to_numpy().reshape(3230,8*22)"
   ]
  },
  {
   "cell_type": "code",
   "execution_count": 288,
   "metadata": {},
   "outputs": [
    {
     "data": {
      "text/plain": [
       "(3230, 176)"
      ]
     },
     "execution_count": 288,
     "metadata": {},
     "output_type": "execute_result"
    }
   ],
   "source": [
    "dataset3.shape"
   ]
  },
  {
   "cell_type": "code",
   "execution_count": 289,
   "metadata": {},
   "outputs": [
    {
     "data": {
      "text/plain": [
       "array([  0,   7,   8,  15,  16,  23,  24,  31,  32,  39,  40,  47,  48,\n",
       "        55,  56,  63,  64,  71,  72,  79,  80,  87,  88,  95,  96, 103,\n",
       "       104, 111, 112, 119, 120, 127, 128, 135, 136, 143, 144, 151, 152,\n",
       "       159, 160, 167, 168])"
      ]
     },
     "execution_count": 289,
     "metadata": {},
     "output_type": "execute_result"
    }
   ],
   "source": [
    "arr1=[i*8 for i in range(22)]\r\n",
    "arr2=[i*8+7 for i in range(22)]\r\n",
    "arr=np.array([arr1,arr2]).flatten()\r\n",
    "arr.sort()\r\n",
    "arr[:-1]"
   ]
  },
  {
   "cell_type": "code",
   "execution_count": 290,
   "metadata": {},
   "outputs": [],
   "source": [
    "dataset3=np.delete(dataset3,arr[:-1],axis=1)"
   ]
  },
  {
   "cell_type": "code",
   "execution_count": 291,
   "metadata": {},
   "outputs": [
    {
     "data": {
      "text/plain": [
       "(3230, 133)"
      ]
     },
     "execution_count": 291,
     "metadata": {},
     "output_type": "execute_result"
    }
   ],
   "source": [
    "dataset3.shape"
   ]
  },
  {
   "cell_type": "code",
   "execution_count": 408,
   "metadata": {},
   "outputs": [],
   "source": [
    "dataset_=np.concatenate((dataset3,dataset4),axis=0)"
   ]
  },
  {
   "cell_type": "code",
   "execution_count": 578,
   "metadata": {},
   "outputs": [
    {
     "data": {
      "text/plain": [
       "(6402, 133)"
      ]
     },
     "execution_count": 578,
     "metadata": {},
     "output_type": "execute_result"
    }
   ],
   "source": [
    "dataset_.shape"
   ]
  },
  {
   "cell_type": "code",
   "execution_count": 579,
   "metadata": {},
   "outputs": [],
   "source": [
    "train, test = train_test_split(dataset_, test_size=0.3)"
   ]
  },
  {
   "cell_type": "code",
   "execution_count": 580,
   "metadata": {},
   "outputs": [
    {
     "data": {
      "text/plain": [
       "((4481, 132), (4481,), (1921, 132), (1921,))"
      ]
     },
     "execution_count": 580,
     "metadata": {},
     "output_type": "execute_result"
    }
   ],
   "source": [
    "X_train = train[:,:-1]\r\n",
    "Y_train = train[:,-1].astype(int)\r\n",
    "X_test  = test[:,:-1]\r\n",
    "Y_test  = test[:,-1].astype(int)\r\n",
    "X_train.shape, Y_train.shape,X_test.shape, Y_test.shape"
   ]
  },
  {
   "cell_type": "code",
   "execution_count": 581,
   "metadata": {},
   "outputs": [
    {
     "name": "stdout",
     "output_type": "stream",
     "text": [
      "training score:99.64293684445437\n",
      "test score:99.16710046850599\n"
     ]
    },
    {
     "name": "stderr",
     "output_type": "stream",
     "text": [
      "C:\\Users\\zys\\Anaconda3\\lib\\site-packages\\sklearn\\utils\\optimize.py:211: ConvergenceWarning: newton-cg failed to converge. Increase the number of iterations.\n",
      "  warnings.warn(\"newton-cg failed to converge. Increase the \"\n"
     ]
    },
    {
     "data": {
      "text/plain": [
       "array([[1905,    7],\n",
       "       [   9,    0]], dtype=int64)"
      ]
     },
     "execution_count": 581,
     "metadata": {},
     "output_type": "execute_result"
    }
   ],
   "source": [
    "logreg = LogisticRegression(solver='newton-cg')\r\n",
    "logreg.fit(X_train, Y_train)\r\n",
    "Y_pred = logreg.predict(X_test)\r\n",
    "acc_log = logreg.score(X_train, Y_train) * 100\r\n",
    "acc_log_t = logreg.score(X_test, Y_test) * 100\r\n",
    "print('training score:' +str(acc_log))\r\n",
    "print('test score:' +str(acc_log_t))\r\n",
    "confusion_matrix(Y_test, Y_pred)"
   ]
  },
  {
   "cell_type": "code",
   "execution_count": 582,
   "metadata": {},
   "outputs": [
    {
     "name": "stdout",
     "output_type": "stream",
     "text": [
      "training score:100.0\n",
      "test score:99.53149401353461\n"
     ]
    },
    {
     "data": {
      "text/plain": [
       "array([[1912,    0],\n",
       "       [   9,    0]], dtype=int64)"
      ]
     },
     "execution_count": 582,
     "metadata": {},
     "output_type": "execute_result"
    }
   ],
   "source": [
    "random_forest = RandomForestClassifier(n_estimators=100)\r\n",
    "random_forest.fit(X_train, Y_train)\r\n",
    "Y_pred = random_forest.predict(X_test)\r\n",
    "random_forest.score(X_train, Y_train)\r\n",
    "acc_random_forest = random_forest.score(X_train, Y_train) * 100\r\n",
    "acc_random_forest_t = random_forest.score(X_test, Y_test) * 100\r\n",
    "print('training score:' +str(acc_random_forest))\r\n",
    "print('test score:' +str(acc_random_forest_t))\r\n",
    "confusion_matrix(Y_test, Y_pred)"
   ]
  },
  {
   "cell_type": "code",
   "execution_count": 583,
   "metadata": {},
   "outputs": [
    {
     "name": "stdout",
     "output_type": "stream",
     "text": [
      "[06:27:43] WARNING: C:/Users/Administrator/workspace/xgboost-win64_release_1.4.0/src/learner.cc:1095: Starting in XGBoost 1.3.0, the default evaluation metric used with the objective 'binary:logistic' was changed from 'error' to 'logloss'. Explicitly set eval_metric if you'd like to restore the old behavior.\n"
     ]
    },
    {
     "name": "stderr",
     "output_type": "stream",
     "text": [
      "C:\\Users\\zys\\Anaconda3\\lib\\site-packages\\xgboost\\sklearn.py:1146: UserWarning: The use of label encoder in XGBClassifier is deprecated and will be removed in a future release. To remove this warning, do the following: 1) Pass option use_label_encoder=False when constructing XGBClassifier object; and 2) Encode your labels (y) as integers starting with 0, i.e. 0, 1, 2, ..., [num_class - 1].\n",
      "  warnings.warn(label_encoder_deprecation_msg, UserWarning)\n"
     ]
    },
    {
     "name": "stdout",
     "output_type": "stream",
     "text": [
      "training score:100.0\n",
      "test score:99.42738157209786\n"
     ]
    },
    {
     "data": {
      "text/plain": [
       "array([[1910,    2],\n",
       "       [   9,    0]], dtype=int64)"
      ]
     },
     "execution_count": 583,
     "metadata": {},
     "output_type": "execute_result"
    }
   ],
   "source": [
    "xgboost = XGBClassifier()\r\n",
    "xgboost.fit(X_train, Y_train)\r\n",
    "Y_pred = xgboost.predict(X_test)\r\n",
    "xgboost.score(X_train, Y_train)\r\n",
    "acc_xgboost = xgboost.score(X_train, Y_train) * 100\r\n",
    "acc_xgboost_t = xgboost.score(X_test, Y_test) * 100\r\n",
    "print('training score:' +str(acc_xgboost))\r\n",
    "print('test score:' +str(acc_xgboost_t))\r\n",
    "confusion_matrix(Y_test, Y_pred)"
   ]
  },
  {
   "cell_type": "code",
   "execution_count": 584,
   "metadata": {},
   "outputs": [
    {
     "name": "stdout",
     "output_type": "stream",
     "text": [
      "training score:99.55367105556795\n",
      "test score:99.53149401353461\n",
      "              precision    recall  f1-score   support\n",
      "\n",
      "           0       1.00      1.00      1.00      1912\n",
      "           1       0.00      0.00      0.00         9\n",
      "\n",
      "    accuracy                           1.00      1921\n",
      "   macro avg       0.50      0.50      0.50      1921\n",
      "weighted avg       0.99      1.00      0.99      1921\n",
      "\n"
     ]
    },
    {
     "name": "stderr",
     "output_type": "stream",
     "text": [
      "C:\\Users\\zys\\Anaconda3\\lib\\site-packages\\sklearn\\metrics\\_classification.py:1221: UndefinedMetricWarning: Precision and F-score are ill-defined and being set to 0.0 in labels with no predicted samples. Use `zero_division` parameter to control this behavior.\n",
      "  _warn_prf(average, modifier, msg_start, len(result))\n"
     ]
    },
    {
     "data": {
      "text/plain": [
       "array([[1912,    0],\n",
       "       [   9,    0]], dtype=int64)"
      ]
     },
     "execution_count": 584,
     "metadata": {},
     "output_type": "execute_result"
    }
   ],
   "source": [
    "svc = SVC()\r\n",
    "svc.fit(X_train, Y_train)\r\n",
    "Y_pred = svc.predict(X_test)\r\n",
    "acc_svc = svc.score(X_train, Y_train) * 100\r\n",
    "acc_svc_t = svc.score(X_test, Y_test) * 100\r\n",
    "print('training score:' +str(acc_svc))\r\n",
    "print('test score:' +str(acc_svc_t))\r\n",
    "print(classification_report(Y_test, Y_pred))\r\n",
    "confusion_matrix(Y_test, Y_pred)"
   ]
  },
  {
   "cell_type": "code",
   "execution_count": 585,
   "metadata": {},
   "outputs": [
    {
     "name": "stderr",
     "output_type": "stream",
     "text": [
      "C:\\Users\\zys\\Anaconda3\\lib\\site-packages\\sklearn\\ensemble\\_iforest.py:252: FutureWarning: 'behaviour' is deprecated in 0.22 and will be removed in 0.24. You should not pass or set this parameter.\n",
      "  warn(\n"
     ]
    },
    {
     "data": {
      "text/plain": [
       "array([[4444,   17],\n",
       "       [  20,    0]], dtype=int64)"
      ]
     },
     "execution_count": 585,
     "metadata": {},
     "output_type": "execute_result"
    }
   ],
   "source": [
    "isolation_forest= IsolationForest(contamination=0.003715, behaviour='new')\r\n",
    "X_train_= X_train[Y_train==0]\r\n",
    "isolation_forest.fit(X_train_)\r\n",
    "Y_pred = isolation_forest.predict(X_train)\r\n",
    "Y_pred[Y_pred == 1] = 0\r\n",
    "Y_pred[Y_pred == -1] = 1\r\n",
    "confusion_matrix(Y_train, Y_pred)"
   ]
  },
  {
   "cell_type": "code",
   "execution_count": 586,
   "metadata": {},
   "outputs": [
    {
     "name": "stdout",
     "output_type": "stream",
     "text": [
      "              precision    recall  f1-score   support\n",
      "\n",
      "           0       1.00      0.99      0.99      4461\n",
      "           1       0.02      0.05      0.02        20\n",
      "\n",
      "    accuracy                           0.98      4481\n",
      "   macro avg       0.51      0.52      0.51      4481\n",
      "weighted avg       0.99      0.98      0.99      4481\n",
      "\n"
     ]
    },
    {
     "data": {
      "text/plain": [
       "array([[4399,   62],\n",
       "       [  19,    1]], dtype=int64)"
      ]
     },
     "execution_count": 586,
     "metadata": {},
     "output_type": "execute_result"
    }
   ],
   "source": [
    "one_class_SVM= OneClassSVM(gamma='scale', nu=0.003715)\r\n",
    "X_train_= X_train[Y_train==0]\r\n",
    "one_class_SVM.fit(X_train_)\r\n",
    "Y_pred = one_class_SVM.predict(X_train)\r\n",
    "Y_pred[Y_pred == 1] = 0\r\n",
    "Y_pred[Y_pred == -1] = 1\r\n",
    "print(classification_report(Y_train, Y_pred))\r\n",
    "confusion_matrix(Y_train, Y_pred)"
   ]
  },
  {
   "cell_type": "code",
   "execution_count": 587,
   "metadata": {},
   "outputs": [],
   "source": [
    "scaler = StandardScaler()  \r\n",
    "\r\n",
    "scaler.fit(X_train)  \r\n",
    "X_train = scaler.transform(X_train)  \r\n",
    "\r\n",
    "X_test = scaler.transform(X_test)"
   ]
  },
  {
   "cell_type": "code",
   "execution_count": 588,
   "metadata": {},
   "outputs": [
    {
     "name": "stdout",
     "output_type": "stream",
     "text": [
      "training score:99.70988618611916\n",
      "test score:99.42738157209786\n"
     ]
    },
    {
     "data": {
      "text/plain": [
       "array([[1910,    2],\n",
       "       [   9,    0]], dtype=int64)"
      ]
     },
     "execution_count": 588,
     "metadata": {},
     "output_type": "execute_result"
    }
   ],
   "source": [
    "clf = MLPClassifier(hidden_layer_sizes=(132,132,132))\r\n",
    "clf.fit(X_train, Y_train)\r\n",
    "Y_pred = clf.predict(X_test)\r\n",
    "acc_svc = clf.score(X_train, Y_train) * 100\r\n",
    "acc_svc_t = clf.score(X_test, Y_test) * 100\r\n",
    "print('training score:' +str(acc_svc))\r\n",
    "print('test score:' +str(acc_svc_t))\r\n",
    "confusion_matrix(Y_test, Y_pred)"
   ]
  },
  {
   "cell_type": "code",
   "execution_count": 589,
   "metadata": {},
   "outputs": [],
   "source": [
    "model = keras.models.Sequential([\r\n",
    "    \r\n",
    "    keras.layers.Dense(300, activation=\"relu\"),\r\n",
    "    keras.layers.Dense(100, activation=\"relu\"),\r\n",
    "    keras.layers.Dense(10, activation=\"softmax\")\r\n",
    "])\r\n",
    "model.compile(loss=\"sparse_categorical_crossentropy\",\r\n",
    "              optimizer=\"sgd\",\r\n",
    "              metrics=[\"accuracy\"])"
   ]
  },
  {
   "cell_type": "code",
   "execution_count": 590,
   "metadata": {},
   "outputs": [
    {
     "name": "stdout",
     "output_type": "stream",
     "text": [
      "Epoch 1/20\n",
      "141/141 [==============================] - 0s 793us/step - loss: 0.7296 - accuracy: 0.8575\n",
      "Epoch 2/20\n",
      "141/141 [==============================] - 0s 764us/step - loss: 0.0549 - accuracy: 0.9955\n",
      "Epoch 3/20\n",
      "141/141 [==============================] - 0s 807us/step - loss: 0.0363 - accuracy: 0.9962\n",
      "Epoch 4/20\n",
      "141/141 [==============================] - 0s 650us/step - loss: 0.0469 - accuracy: 0.9945\n",
      "Epoch 5/20\n",
      "141/141 [==============================] - 0s 731us/step - loss: 0.0359 - accuracy: 0.9961\n",
      "Epoch 6/20\n",
      "141/141 [==============================] - 0s 643us/step - loss: 0.0389 - accuracy: 0.9951\n",
      "Epoch 7/20\n",
      "141/141 [==============================] - 0s 758us/step - loss: 0.0302 - accuracy: 0.9963\n",
      "Epoch 8/20\n",
      "141/141 [==============================] - 0s 743us/step - loss: 0.0273 - accuracy: 0.9965\n",
      "Epoch 9/20\n",
      "141/141 [==============================] - 0s 736us/step - loss: 0.0315 - accuracy: 0.9959\n",
      "Epoch 10/20\n",
      "141/141 [==============================] - 0s 779us/step - loss: 0.0279 - accuracy: 0.9963\n",
      "Epoch 11/20\n",
      "141/141 [==============================] - 0s 686us/step - loss: 0.0345 - accuracy: 0.9950\n",
      "Epoch 12/20\n",
      "141/141 [==============================] - 0s 779us/step - loss: 0.0339 - accuracy: 0.9950\n",
      "Epoch 13/20\n",
      "141/141 [==============================] - 0s 650us/step - loss: 0.0353 - accuracy: 0.9944\n",
      "Epoch 14/20\n",
      "141/141 [==============================] - 0s 779us/step - loss: 0.0297 - accuracy: 0.9954\n",
      "Epoch 15/20\n",
      "141/141 [==============================] - 0s 686us/step - loss: 0.0379 - accuracy: 0.9938\n",
      "Epoch 16/20\n",
      "141/141 [==============================] - 0s 714us/step - loss: 0.0327 - accuracy: 0.9948\n",
      "Epoch 17/20\n",
      "141/141 [==============================] - 0s 700us/step - loss: 0.0282 - accuracy: 0.9955\n",
      "Epoch 18/20\n",
      "141/141 [==============================] - 0s 700us/step - loss: 0.0229 - accuracy: 0.9965\n",
      "Epoch 19/20\n",
      "141/141 [==============================] - 0s 814us/step - loss: 0.0279 - accuracy: 0.9954\n",
      "Epoch 20/20\n",
      "141/141 [==============================] - 0s 671us/step - loss: 0.0233 - accuracy: 0.9962\n"
     ]
    },
    {
     "data": {
      "text/plain": [
       "<tensorflow.python.keras.callbacks.History at 0x1fda27b95e0>"
      ]
     },
     "execution_count": 590,
     "metadata": {},
     "output_type": "execute_result"
    }
   ],
   "source": [
    "model.fit(X_train, Y_train, epochs=20,\r\n",
    "                    )"
   ]
  },
  {
   "cell_type": "code",
   "execution_count": 591,
   "metadata": {},
   "outputs": [
    {
     "name": "stdout",
     "output_type": "stream",
     "text": [
      "61/61 [==============================] - 0s 517us/step - loss: 0.0331 - accuracy: 0.9953\n"
     ]
    },
    {
     "data": {
      "text/plain": [
       "[0.033084191381931305, 0.9953149557113647]"
      ]
     },
     "execution_count": 591,
     "metadata": {},
     "output_type": "execute_result"
    }
   ],
   "source": [
    "model.evaluate(X_test, Y_test)"
   ]
  },
  {
   "cell_type": "code",
   "execution_count": 576,
   "metadata": {},
   "outputs": [
    {
     "data": {
      "text/plain": [
       "(1921, 10)"
      ]
     },
     "execution_count": 576,
     "metadata": {},
     "output_type": "execute_result"
    }
   ],
   "source": [
    "Y_pred = model.predict(X_test)\r\n",
    "Y_pred.shape"
   ]
  },
  {
   "cell_type": "code",
   "execution_count": 594,
   "metadata": {},
   "outputs": [
    {
     "data": {
      "text/plain": [
       "<tf.Tensor: shape=(2, 2), dtype=int32, numpy=\n",
       "array([[1910,    2],\n",
       "       [   9,    0]])>"
      ]
     },
     "execution_count": 594,
     "metadata": {},
     "output_type": "execute_result"
    }
   ],
   "source": [
    "tf.math.confusion_matrix(labels=Y_test, predictions=Y_pred)"
   ]
  },
  {
   "cell_type": "code",
   "execution_count": null,
   "metadata": {},
   "outputs": [],
   "source": []
  },
  {
   "cell_type": "code",
   "execution_count": 432,
   "metadata": {},
   "outputs": [],
   "source": [
    "da=pd.read_csv('data\\hospital_compare\\Copy of hospital_compare_quality_revised_16.csv')"
   ]
  },
  {
   "cell_type": "code",
   "execution_count": 473,
   "metadata": {},
   "outputs": [
    {
     "data": {
      "text/html": [
       "<div>\n",
       "<style scoped>\n",
       "    .dataframe tbody tr th:only-of-type {\n",
       "        vertical-align: middle;\n",
       "    }\n",
       "\n",
       "    .dataframe tbody tr th {\n",
       "        vertical-align: top;\n",
       "    }\n",
       "\n",
       "    .dataframe thead th {\n",
       "        text-align: right;\n",
       "    }\n",
       "</style>\n",
       "<table border=\"1\" class=\"dataframe\">\n",
       "  <thead>\n",
       "    <tr style=\"text-align: right;\">\n",
       "      <th></th>\n",
       "      <th>Unnamed: 0</th>\n",
       "      <th>id</th>\n",
       "      <th>Hospital.Type</th>\n",
       "      <th>Hospital.Ownership</th>\n",
       "      <th>Emergency.Services</th>\n",
       "      <th>ehr</th>\n",
       "      <th>rate</th>\n",
       "      <th>mortality</th>\n",
       "      <th>safety</th>\n",
       "      <th>readmin</th>\n",
       "      <th>patient_exp</th>\n",
       "      <th>effective</th>\n",
       "      <th>timely</th>\n",
       "      <th>efficient_img</th>\n",
       "      <th>Closure</th>\n",
       "    </tr>\n",
       "  </thead>\n",
       "  <tbody>\n",
       "    <tr>\n",
       "      <th>0</th>\n",
       "      <td>1</td>\n",
       "      <td>10001</td>\n",
       "      <td>Acute Care Hospitals</td>\n",
       "      <td>Government - Hospital District or Authority</td>\n",
       "      <td>1</td>\n",
       "      <td>1</td>\n",
       "      <td>3.0</td>\n",
       "      <td>2.0</td>\n",
       "      <td>3.0</td>\n",
       "      <td>2.0</td>\n",
       "      <td>1.0</td>\n",
       "      <td>2.0</td>\n",
       "      <td>2.0</td>\n",
       "      <td>2.0</td>\n",
       "      <td>0</td>\n",
       "    </tr>\n",
       "    <tr>\n",
       "      <th>1</th>\n",
       "      <td>2</td>\n",
       "      <td>10005</td>\n",
       "      <td>Acute Care Hospitals</td>\n",
       "      <td>Government - Hospital District or Authority</td>\n",
       "      <td>1</td>\n",
       "      <td>1</td>\n",
       "      <td>3.0</td>\n",
       "      <td>1.0</td>\n",
       "      <td>2.0</td>\n",
       "      <td>3.0</td>\n",
       "      <td>2.0</td>\n",
       "      <td>2.0</td>\n",
       "      <td>3.0</td>\n",
       "      <td>1.0</td>\n",
       "      <td>0</td>\n",
       "    </tr>\n",
       "    <tr>\n",
       "      <th>2</th>\n",
       "      <td>3</td>\n",
       "      <td>10006</td>\n",
       "      <td>Acute Care Hospitals</td>\n",
       "      <td>Government - Hospital District or Authority</td>\n",
       "      <td>1</td>\n",
       "      <td>1</td>\n",
       "      <td>2.0</td>\n",
       "      <td>1.0</td>\n",
       "      <td>2.0</td>\n",
       "      <td>2.0</td>\n",
       "      <td>1.0</td>\n",
       "      <td>2.0</td>\n",
       "      <td>3.0</td>\n",
       "      <td>2.0</td>\n",
       "      <td>0</td>\n",
       "    </tr>\n",
       "    <tr>\n",
       "      <th>3</th>\n",
       "      <td>4</td>\n",
       "      <td>10007</td>\n",
       "      <td>Acute Care Hospitals</td>\n",
       "      <td>Voluntary non-profit - Private</td>\n",
       "      <td>1</td>\n",
       "      <td>1</td>\n",
       "      <td>2.0</td>\n",
       "      <td>2.0</td>\n",
       "      <td>NaN</td>\n",
       "      <td>1.0</td>\n",
       "      <td>2.0</td>\n",
       "      <td>1.0</td>\n",
       "      <td>3.0</td>\n",
       "      <td>NaN</td>\n",
       "      <td>0</td>\n",
       "    </tr>\n",
       "    <tr>\n",
       "      <th>4</th>\n",
       "      <td>5</td>\n",
       "      <td>10008</td>\n",
       "      <td>Acute Care Hospitals</td>\n",
       "      <td>Proprietary</td>\n",
       "      <td>1</td>\n",
       "      <td>1</td>\n",
       "      <td>3.0</td>\n",
       "      <td>2.0</td>\n",
       "      <td>NaN</td>\n",
       "      <td>2.0</td>\n",
       "      <td>NaN</td>\n",
       "      <td>2.0</td>\n",
       "      <td>3.0</td>\n",
       "      <td>NaN</td>\n",
       "      <td>0</td>\n",
       "    </tr>\n",
       "    <tr>\n",
       "      <th>...</th>\n",
       "      <td>...</td>\n",
       "      <td>...</td>\n",
       "      <td>...</td>\n",
       "      <td>...</td>\n",
       "      <td>...</td>\n",
       "      <td>...</td>\n",
       "      <td>...</td>\n",
       "      <td>...</td>\n",
       "      <td>...</td>\n",
       "      <td>...</td>\n",
       "      <td>...</td>\n",
       "      <td>...</td>\n",
       "      <td>...</td>\n",
       "      <td>...</td>\n",
       "      <td>...</td>\n",
       "    </tr>\n",
       "    <tr>\n",
       "      <th>4802</th>\n",
       "      <td>4803</td>\n",
       "      <td>670114</td>\n",
       "      <td>Acute Care Hospitals</td>\n",
       "      <td>Proprietary</td>\n",
       "      <td>1</td>\n",
       "      <td>0</td>\n",
       "      <td>NaN</td>\n",
       "      <td>NaN</td>\n",
       "      <td>NaN</td>\n",
       "      <td>NaN</td>\n",
       "      <td>NaN</td>\n",
       "      <td>NaN</td>\n",
       "      <td>NaN</td>\n",
       "      <td>NaN</td>\n",
       "      <td>0</td>\n",
       "    </tr>\n",
       "    <tr>\n",
       "      <th>4803</th>\n",
       "      <td>4804</td>\n",
       "      <td>640001</td>\n",
       "      <td>Acute Care Hospitals</td>\n",
       "      <td>Government - Hospital District or Authority</td>\n",
       "      <td>1</td>\n",
       "      <td>0</td>\n",
       "      <td>NaN</td>\n",
       "      <td>NaN</td>\n",
       "      <td>NaN</td>\n",
       "      <td>NaN</td>\n",
       "      <td>NaN</td>\n",
       "      <td>NaN</td>\n",
       "      <td>NaN</td>\n",
       "      <td>NaN</td>\n",
       "      <td>0</td>\n",
       "    </tr>\n",
       "    <tr>\n",
       "      <th>4804</th>\n",
       "      <td>4805</td>\n",
       "      <td>650001</td>\n",
       "      <td>Acute Care Hospitals</td>\n",
       "      <td>Government - Local</td>\n",
       "      <td>1</td>\n",
       "      <td>1</td>\n",
       "      <td>3.0</td>\n",
       "      <td>1.0</td>\n",
       "      <td>NaN</td>\n",
       "      <td>2.0</td>\n",
       "      <td>NaN</td>\n",
       "      <td>2.0</td>\n",
       "      <td>NaN</td>\n",
       "      <td>NaN</td>\n",
       "      <td>0</td>\n",
       "    </tr>\n",
       "    <tr>\n",
       "      <th>4805</th>\n",
       "      <td>4806</td>\n",
       "      <td>650003</td>\n",
       "      <td>Acute Care Hospitals</td>\n",
       "      <td>Voluntary non-profit - Private</td>\n",
       "      <td>1</td>\n",
       "      <td>0</td>\n",
       "      <td>NaN</td>\n",
       "      <td>NaN</td>\n",
       "      <td>NaN</td>\n",
       "      <td>NaN</td>\n",
       "      <td>NaN</td>\n",
       "      <td>NaN</td>\n",
       "      <td>NaN</td>\n",
       "      <td>NaN</td>\n",
       "      <td>0</td>\n",
       "    </tr>\n",
       "    <tr>\n",
       "      <th>4806</th>\n",
       "      <td>4807</td>\n",
       "      <td>660001</td>\n",
       "      <td>Acute Care Hospitals</td>\n",
       "      <td>Proprietary</td>\n",
       "      <td>1</td>\n",
       "      <td>1</td>\n",
       "      <td>NaN</td>\n",
       "      <td>2.0</td>\n",
       "      <td>NaN</td>\n",
       "      <td>1.0</td>\n",
       "      <td>NaN</td>\n",
       "      <td>NaN</td>\n",
       "      <td>NaN</td>\n",
       "      <td>NaN</td>\n",
       "      <td>0</td>\n",
       "    </tr>\n",
       "  </tbody>\n",
       "</table>\n",
       "<p>4807 rows × 15 columns</p>\n",
       "</div>"
      ],
      "text/plain": [
       "      Unnamed: 0      id         Hospital.Type  \\\n",
       "0              1   10001  Acute Care Hospitals   \n",
       "1              2   10005  Acute Care Hospitals   \n",
       "2              3   10006  Acute Care Hospitals   \n",
       "3              4   10007  Acute Care Hospitals   \n",
       "4              5   10008  Acute Care Hospitals   \n",
       "...          ...     ...                   ...   \n",
       "4802        4803  670114  Acute Care Hospitals   \n",
       "4803        4804  640001  Acute Care Hospitals   \n",
       "4804        4805  650001  Acute Care Hospitals   \n",
       "4805        4806  650003  Acute Care Hospitals   \n",
       "4806        4807  660001  Acute Care Hospitals   \n",
       "\n",
       "                               Hospital.Ownership  Emergency.Services  ehr  \\\n",
       "0     Government - Hospital District or Authority                   1    1   \n",
       "1     Government - Hospital District or Authority                   1    1   \n",
       "2     Government - Hospital District or Authority                   1    1   \n",
       "3                  Voluntary non-profit - Private                   1    1   \n",
       "4                                     Proprietary                   1    1   \n",
       "...                                           ...                 ...  ...   \n",
       "4802                                  Proprietary                   1    0   \n",
       "4803  Government - Hospital District or Authority                   1    0   \n",
       "4804                           Government - Local                   1    1   \n",
       "4805               Voluntary non-profit - Private                   1    0   \n",
       "4806                                  Proprietary                   1    1   \n",
       "\n",
       "      rate  mortality  safety  readmin  patient_exp  effective  timely  \\\n",
       "0      3.0        2.0     3.0      2.0          1.0        2.0     2.0   \n",
       "1      3.0        1.0     2.0      3.0          2.0        2.0     3.0   \n",
       "2      2.0        1.0     2.0      2.0          1.0        2.0     3.0   \n",
       "3      2.0        2.0     NaN      1.0          2.0        1.0     3.0   \n",
       "4      3.0        2.0     NaN      2.0          NaN        2.0     3.0   \n",
       "...    ...        ...     ...      ...          ...        ...     ...   \n",
       "4802   NaN        NaN     NaN      NaN          NaN        NaN     NaN   \n",
       "4803   NaN        NaN     NaN      NaN          NaN        NaN     NaN   \n",
       "4804   3.0        1.0     NaN      2.0          NaN        2.0     NaN   \n",
       "4805   NaN        NaN     NaN      NaN          NaN        NaN     NaN   \n",
       "4806   NaN        2.0     NaN      1.0          NaN        NaN     NaN   \n",
       "\n",
       "      efficient_img  Closure  \n",
       "0               2.0        0  \n",
       "1               1.0        0  \n",
       "2               2.0        0  \n",
       "3               NaN        0  \n",
       "4               NaN        0  \n",
       "...             ...      ...  \n",
       "4802            NaN        0  \n",
       "4803            NaN        0  \n",
       "4804            NaN        0  \n",
       "4805            NaN        0  \n",
       "4806            NaN        0  \n",
       "\n",
       "[4807 rows x 15 columns]"
      ]
     },
     "execution_count": 473,
     "metadata": {},
     "output_type": "execute_result"
    }
   ],
   "source": [
    "da"
   ]
  },
  {
   "cell_type": "code",
   "execution_count": 475,
   "metadata": {},
   "outputs": [
    {
     "data": {
      "text/plain": [
       "3.0    5\n",
       "Name: rate, dtype: int64"
      ]
     },
     "execution_count": 475,
     "metadata": {},
     "output_type": "execute_result"
    }
   ],
   "source": [
    "da[da['Closure']==1]['rate'].value_counts(dropna=False)"
   ]
  },
  {
   "cell_type": "code",
   "execution_count": 474,
   "metadata": {},
   "outputs": [
    {
     "data": {
      "text/plain": [
       "3.0    1769\n",
       "NaN    1223\n",
       "4.0     941\n",
       "2.0     679\n",
       "1.0     108\n",
       "5.0      82\n",
       "Name: rate, dtype: int64"
      ]
     },
     "execution_count": 474,
     "metadata": {},
     "output_type": "execute_result"
    }
   ],
   "source": [
    "da[da['Closure']==0]['rate'].value_counts(dropna=False)"
   ]
  },
  {
   "cell_type": "code",
   "execution_count": 470,
   "metadata": {},
   "outputs": [],
   "source": [
    "sub_ds1=dataset_close[dataset_close['year_close_combined']==2016]\r\n",
    "sub_ds2=dataset_close[dataset_close['year_close_combined']==2017]\r\n",
    "\r\n",
    "sub_ds=pd.concat([sub_ds1,sub_ds2])\r\n",
    "da=da.rename(columns={'Provider.ID':'id'})\r\n",
    "da['Closure']=da.id.apply(lambda x:1 if x in np.array(sub_ds['id']) else 0)"
   ]
  },
  {
   "cell_type": "code",
   "execution_count": 472,
   "metadata": {},
   "outputs": [],
   "source": [
    "da['Emergency.Services']=da['Emergency.Services'].replace({'Yes':1,'No':0})"
   ]
  },
  {
   "cell_type": "code",
   "execution_count": null,
   "metadata": {},
   "outputs": [],
   "source": [
    "da['rate']"
   ]
  }
 ],
 "metadata": {
  "interpreter": {
   "hash": "e46a312f18d66f7c51dddd93e62c13ef1a00dedabbfab58bbf9c547c81fcfc71"
  },
  "kernelspec": {
   "display_name": "Python 3.8.3 64-bit ('base': conda)",
   "name": "python3"
  },
  "language_info": {
   "codemirror_mode": {
    "name": "ipython",
    "version": 3
   },
   "file_extension": ".py",
   "mimetype": "text/x-python",
   "name": "python",
   "nbconvert_exporter": "python",
   "pygments_lexer": "ipython3",
   "version": "3.8.3"
  },
  "orig_nbformat": 4
 },
 "nbformat": 4,
 "nbformat_minor": 2
}